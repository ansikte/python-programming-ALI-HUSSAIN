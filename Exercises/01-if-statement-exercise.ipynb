{
 "cells": [
  {
   "cell_type": "markdown",
   "metadata": {},
   "source": [
    "\n",
    "<a href=\"https://colab.research.google.com/github/kokchun/Python-course-AI22/blob/main/Exercises/01-if-statement-exercise.ipynb\" target=\"_parent\"><img align=\"left\" src=\"https://colab.research.google.com/assets/colab-badge.svg\" alt=\"Open In Colab\"/></a> &nbsp; to see hints and answers."
   ]
  },
  {
   "cell_type": "markdown",
   "metadata": {},
   "source": [
    "# if statements exercises\n",
    "\n",
    "---\n",
    "These are introductory exercises in Python with focus in **if** statement.\n",
    "\n",
    "<p class = \"alert alert-info\" role=\"alert\"><b>Remember</b> to use <b>descriptive variable names</b> in order to get readable code </p>\n",
    "\n",
    "<p class = \"alert alert-info\" role=\"alert\"><b>Remember</b> to format your answers in a neat way using <b>f-strings</b>\n",
    "\n",
    "<p class = \"alert alert-info\" role=\"alert\"><b>Remember</b> to format your input questions in a pedagogical way to guide the user\n",
    "\n",
    "The number of stars (\\*), (\\*\\*), (\\*\\*\\*) denotes the difficulty level of the task\n",
    "\n",
    "---"
   ]
  },
  {
   "cell_type": "markdown",
   "metadata": {},
   "source": [
    "## 1. Check sign (*)\n",
    "\n",
    "Ask the user to input a number and check if this number is **positive**, **negative** or **zero** and print it out."
   ]
  },
  {
   "cell_type": "code",
   "execution_count": 26,
   "metadata": {},
   "outputs": [
    {
     "name": "stdout",
     "output_type": "stream",
     "text": [
      "You wrote 3.333.\n",
      "Your number is positive\n"
     ]
    }
   ],
   "source": [
    "# Asking the user for a numeric input\n",
    "try:\n",
    "    num = float(input(\"Write any number: \"))\n",
    "    print(f\"You wrote {num}.\")\n",
    "\n",
    "    # If the number is zero\n",
    "    if num == 0:\n",
    "        print(\"Your number is neutral\")\n",
    "    # If the number is positive\n",
    "    elif num > 0:\n",
    "        print(\"Your number is positive\")\n",
    "    # If the number is negative\n",
    "    elif num < 0:\n",
    "        print(\"Your number is negative\")\n",
    "except ValueError:\n",
    "    print(\"That's not a valid number.\")\n"
   ]
  },
  {
   "cell_type": "markdown",
   "metadata": {},
   "source": [
    "---\n",
    "## 2. Smallest (*)\n",
    "Ask the user to input two numbers and check which one is the smallest and print it out.   "
   ]
  },
  {
   "cell_type": "code",
   "execution_count": 10,
   "metadata": {},
   "outputs": [
    {
     "name": "stdout",
     "output_type": "stream",
     "text": [
      "Invalid input. Please enter a number.\n",
      "Invalid input. Please enter a number.\n",
      "Invalid input. Please enter a number.\n",
      "Invalid input. Please enter a number.\n",
      "The smallest number is 123.0\n"
     ]
    }
   ],
   "source": [
    "while True:\n",
    "    try:\n",
    "        # Ask the user to input the first number\n",
    "        num1 = float(input(\"Enter the first number: \"))\n",
    "        \n",
    "        # Ask the user to input the second number\n",
    "        num2 = float(input(\"Enter the second number: \"))\n",
    "        \n",
    "        # Determine and print the smallest number\n",
    "        if num1 < num2:\n",
    "            print(f\"The smallest number is {num1}\")\n",
    "        elif num2 < num1:\n",
    "            print(f\"The smallest number is {num2}\")\n",
    "        else:\n",
    "            print(f\"Both numbers are equal: {num1}\")\n",
    "        # Exit the loop if everything went well   \n",
    "        break  \n",
    "    # Catch ValueError exception\n",
    "    except ValueError:\n",
    "        print(\"Invalid input. Please enter a number.\")\n"
   ]
  },
  {
   "cell_type": "markdown",
   "metadata": {},
   "source": [
    "---\n",
    "## 3. Right angle (*)\n",
    "\n",
    "Ask the user to input three angles and check if the triangle has a right angle. Your code should make sure that all three angles are valid and make up a triangle.\n",
    "\n",
    "<img align=\"left\" src=\"../Assets/triangle_angles.png\" width=\"200\"/>"
   ]
  },
  {
   "cell_type": "code",
   "execution_count": 23,
   "metadata": {},
   "outputs": [
    {
     "name": "stdout",
     "output_type": "stream",
     "text": [
      "Type in three angles in degrees\n",
      "The triangle does have a right angle\n"
     ]
    }
   ],
   "source": [
    "# Asking user to input three angles\n",
    "print (\"Type in three angles in degrees\")\n",
    "\n",
    "# Asking user to type in the angles\n",
    "ang1 = float(input(\"Type in the first angle: \"))\n",
    "ang2 = float(input(\"Type in the secon angle: \"))\n",
    "ang3 = float(input(\"Type in the third angle: \"))\n",
    "\n",
    "# Calculaing the total sum of the angles\n",
    "total_angle_sum = ang1 + ang2 + ang3\n",
    "\n",
    "# Check if the angles make up a triangle\n",
    "if total_angle_sum != 180:\n",
    "    print (\"The numbers you typed in does not sum up to a triangle\")\n",
    "else:\n",
    "    # Check if the triangle has a right angle\n",
    "    if ang1 == 90 or ang2 == 90 or ang3 == 90:\n",
    "        print (\"The triangle does have a right angle\")\n",
    "    else:\n",
    "        print (\"The triangle does not have a right angle.\")"
   ]
  },
  {
   "cell_type": "markdown",
   "metadata": {},
   "source": [
    "----\n",
    "## 4. Medicine (*)\n",
    "\n",
    "The information in the following table is stated in a medicine package. Also it is stated that for children weight is more important than age.\n",
    "\n",
    "<table align=\"left\">\n",
    "<thead>\n",
    "    <tr>\n",
    "        <th></th>\n",
    "        <th>Age</th>\n",
    "        <th>Number of pills</th>\n",
    "    </tr>\n",
    "</thead>\n",
    "\n",
    "<tbody>\n",
    "  <tr>\n",
    "    <td>Adults & adolescent <br>over 40 kg</td>\n",
    "    <td>over 12 years</td>\n",
    "    <td>1-2</td>\n",
    "  </tr>\n",
    "\n",
    "  <tr>\n",
    "    <td>Children 26-40 kg</td>\n",
    "    <td>7-12 years</td>\n",
    "    <td>1/2-1</td>\n",
    "  </tr>\n",
    "\n",
    "  <tr>\n",
    "    <td>Children 15-25 kg</td>\n",
    "    <td>3-7 years</td>\n",
    "    <td>1/2</td>\n",
    "  </tr>\n",
    "</tbody>\n",
    "</table>"
   ]
  },
  {
   "cell_type": "markdown",
   "metadata": {},
   "source": [
    "Let the user input an **age** and a **weight**, the program should recommend the number of pills for the user."
   ]
  },
  {
   "cell_type": "code",
   "execution_count": 20,
   "metadata": {},
   "outputs": [
    {
     "name": "stdout",
     "output_type": "stream",
     "text": [
      "Your age is 1 and your weight is 3. Therefore, you need this many pills: no data available\n"
     ]
    }
   ],
   "source": [
    "import sys\n",
    "\n",
    "def get_number_pills(age, weight):\n",
    "    # Handling data for children where age is more important\n",
    "    if age <= 12:\n",
    "        if weight >= 26 and weight <= 40:\n",
    "            return \"1/2-1\"\n",
    "        elif weight >= 15 and weight <= 25:\n",
    "            return \"1/2\"\n",
    "        else:\n",
    "            return \"no data available\"\n",
    "    # Handling data for adults\n",
    "    elif age > 12:\n",
    "        if weight > 40:\n",
    "            return \"1-2\"\n",
    "        else:\n",
    "            return \"no data available\"\n",
    "    else:\n",
    "        return \"no data available\"\n",
    "\n",
    "def validate_input(data):\n",
    "    if len(data) == 2:\n",
    "        try:\n",
    "            age = int(data[0])\n",
    "            weight = int(data[1])\n",
    "            return age, weight\n",
    "        except ValueError:\n",
    "            print(\"Please enter valid integers for age and weight.\")\n",
    "            return None, None  # Return None to indicate invalid input\n",
    "    else:\n",
    "        print(\"Please enter exactly two integers for age and weight.\")\n",
    "        return None, None  # Return None to indicate invalid input\n",
    "\n",
    "if __name__ == \"__main__\":\n",
    "    data = input(\"Please type in your age and weight, separated by a space: \").split()\n",
    "    \n",
    "    age, weight = validate_input(data)\n",
    "    \n",
    "    if age is not None and weight is not None:  # Check if the returned values are valid\n",
    "        num_pills = get_number_pills(age, weight)\n",
    "        print(f\"Your age is {age} and your weight is {weight}. Therefore, you need this many pills: {num_pills}\")\n",
    "    else:\n",
    "        print(\"Exiting due to invalid input.\")\n",
    "\n",
    "\n",
    "\n",
    " # import sys\n",
    "\n",
    "# # TODO how are you handling data that for children age is more important ?\n",
    "# # TODO check the age first (row18 + row22) and if weight is as requirment retun the correct one, else return maybe 1/2\n",
    "# # Funktion to calculate number of pills taking inte account that weight is more important than age for childrer.\n",
    "# def get_number_pills(age, weight):\n",
    "#     if age > 12 and weight > 40:\n",
    "#         return \"1-2\"\n",
    "#     elif weight >= 26 and weight <= 40:\n",
    "#         # TODO possible to write in more logical way i.e age >= 3 and age <=12 or follow same convention (goes for all ifs)\n",
    "#         if age >=3 and age <= 12:\n",
    "#             return \"1/2-1\"\n",
    "#         else: \n",
    "#             return \"no data available\" \n",
    "#     elif weight >= 15 and weight <= 25:\n",
    "#         if age >=3 and age <= 12:\n",
    "#             return \"1/2\"\n",
    "#         else: \n",
    "#             return \"no data available\" \n",
    "#     else:\n",
    "#         return \"no data available\" \n",
    "\n",
    "# # Defining variable for person age and weight\n",
    "# # TODO write better innput request info. i.e only int data input\n",
    "# data = input (\"Type in your age and weight\")\n",
    "# data_count = 2\n",
    "# # Splits the input string into two variables [0] and [1]\n",
    "\n",
    "# data = data.split()\n",
    "\n",
    "\n",
    "# # TODO validate that input is int and \"valid\" i.e should not be more then 2 elements int list\n",
    "# if len(data) == data_count:\n",
    "#     print (f\"The list contains {data_count} elements\")\n",
    "#     try:\n",
    "#         age = int(data[0])\n",
    "#         weight = int(data[1])\n",
    "#     except ValueError as ve:\n",
    "#         print (\"Value error bror\")\n",
    "#         sys.exit()\n",
    "# else:\n",
    "#     print (f\"The list does not contain exactly two elements: {data_count}\")\n",
    "#     sys.exit()\n",
    "\n",
    "# num_pills = get_number_pills(age,weight)\n",
    "# # Print out the inputs with the recommended numbers of pills for the user. Changes the data from string to integer\n",
    "# # so that the function can do the calculations.\n",
    "# # TODO You can define dara[0] and dara[1] as vars i.e age = int(dara[0]) instead of doing it in print\n",
    "# print (f\"Your age is {age} and you weight is {weight} therefore you need this many pills {num_pills}"
   ]
  },
  {
   "cell_type": "markdown",
   "metadata": {},
   "source": [
    "---\n",
    "## 5. Divisible (*)\n",
    "Let the user input a number. Check if the number is\n",
    "<ol type=\"a\">\n",
    "  <li>even or odd</li>\n",
    "  <li>is divisible by 5</li>\n",
    "  <li>is divisble by 5 and odd</li>\n",
    "</ol> "
   ]
  },
  {
   "cell_type": "markdown",
   "metadata": {},
   "source": [
    "---\n",
    "## 6. Luggage size (*)\n",
    "\n",
    "The maximum allowed luggage size for boarding an airplane is: \n",
    "- weight: 8kg\n",
    "- dimensions: 55x40x23cm (length x width x height) \n",
    "\n",
    "Let the user input weight, length, width and height of the luggage. The program should check if the luggage is allowed or not."
   ]
  },
  {
   "cell_type": "markdown",
   "metadata": {},
   "source": [
    "---\n",
    "\n",
    "Kokchun Giang\n",
    "\n",
    "[LinkedIn][linkedIn_kokchun]\n",
    "\n",
    "[GitHub portfolio][github_portfolio]\n",
    "\n",
    "[linkedIn_kokchun]: https://www.linkedin.com/in/kokchungiang/\n",
    "[github_portfolio]: https://github.com/kokchun/Portfolio-Kokchun-Giang\n",
    "\n",
    "---"
   ]
  }
 ],
 "metadata": {
  "kernelspec": {
   "display_name": "Python 3.9.6 64-bit",
   "language": "python",
   "name": "python3"
  },
  "language_info": {
   "codemirror_mode": {
    "name": "ipython",
    "version": 3
   },
   "file_extension": ".py",
   "mimetype": "text/x-python",
   "name": "python",
   "nbconvert_exporter": "python",
   "pygments_lexer": "ipython3",
   "version": "3.11.5"
  },
  "orig_nbformat": 4,
  "vscode": {
   "interpreter": {
    "hash": "0da836a34428266995a795f1e1e27b816fa1c02f148d9728b3fbbbc5459afca6"
   }
  }
 },
 "nbformat": 4,
 "nbformat_minor": 2
}
