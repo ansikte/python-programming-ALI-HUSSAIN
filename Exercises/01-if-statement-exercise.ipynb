{
 "cells": [
  {
   "cell_type": "markdown",
   "metadata": {},
   "source": [
    "\n",
    "<a href=\"https://colab.research.google.com/github/kokchun/Python-course-AI22/blob/main/Exercises/01-if-statement-exercise.ipynb\" target=\"_parent\"><img align=\"left\" src=\"https://colab.research.google.com/assets/colab-badge.svg\" alt=\"Open In Colab\"/></a> &nbsp; to see hints and answers."
   ]
  },
  {
   "cell_type": "markdown",
   "metadata": {},
   "source": [
    "# if statements exercises\n",
    "\n",
    "---\n",
    "These are introductory exercises in Python with focus in **if** statement.\n",
    "\n",
    "<p class = \"alert alert-info\" role=\"alert\"><b>Remember</b> to use <b>descriptive variable names</b> in order to get readable code </p>\n",
    "\n",
    "<p class = \"alert alert-info\" role=\"alert\"><b>Remember</b> to format your answers in a neat way using <b>f-strings</b>\n",
    "\n",
    "<p class = \"alert alert-info\" role=\"alert\"><b>Remember</b> to format your input questions in a pedagogical way to guide the user\n",
    "\n",
    "The number of stars (\\*), (\\*\\*), (\\*\\*\\*) denotes the difficulty level of the task\n",
    "\n",
    "---"
   ]
  },
  {
   "cell_type": "markdown",
   "metadata": {},
   "source": [
    "## 1. Check sign (*)\n",
    "\n",
    "Ask the user to input a number and check if this number is **positive**, **negative** or **zero** and print it out."
   ]
  },
  {
   "cell_type": "code",
   "execution_count": 21,
   "metadata": {},
   "outputs": [
    {
     "name": "stdout",
     "output_type": "stream",
     "text": [
      "Your number is positive\n"
     ]
    }
   ],
   "source": [
    "def get_user_input():\n",
    "    user_number = float(input(\"Please input any number:\"))\n",
    "    if user_number > 0:\n",
    "        return \"Your number is positive\"\n",
    "    elif user_number < 0:\n",
    "        return \"Your number is negative\"\n",
    "    else:\n",
    "        return \"Your number is neutral\"\n",
    "\n",
    "print (get_user_input())"
   ]
  },
  {
   "cell_type": "markdown",
   "metadata": {},
   "source": [
    "---\n",
    "## 2. Smallest (*)\n",
    "Ask the user to input two numbers and check which one is the smallest and print it out.   "
   ]
  },
  {
   "cell_type": "code",
   "execution_count": 32,
   "metadata": {},
   "outputs": [
    {
     "name": "stdout",
     "output_type": "stream",
     "text": [
      "The smallest number is: 123123.0\n"
     ]
    }
   ],
   "source": [
    "def compute_smallest():\n",
    "    a = float(input(\"Please input first number: \"))\n",
    "    b = float(input(\"Please input second number: \"))\n",
    "\n",
    "    if a > b:\n",
    "        return b\n",
    "    else:\n",
    "        return a\n",
    "\n",
    "smallest_number = compute_smallest()\n",
    "print (f\"The smallest number is: {smallest_number}\")"
   ]
  },
  {
   "cell_type": "markdown",
   "metadata": {},
   "source": [
    "---\n",
    "## 3. Right angle (*)\n",
    "\n",
    "Ask the user to input three angles and check if the triangle has a right angle. Your code should make sure that all three angles are valid and make up a triangle.\n",
    "\n",
    "<img align=\"left\" src=\"../Assets/triangle_angles.png\" width=\"200\"/>"
   ]
  },
  {
   "cell_type": "code",
   "execution_count": 38,
   "metadata": {},
   "outputs": [
    {
     "name": "stdout",
     "output_type": "stream",
     "text": [
      "The input makes up more than a triangle\n"
     ]
    }
   ],
   "source": [
    "def compute_if_right_angle():\n",
    "    a = float(input(\"Please input first angle: \"))\n",
    "    b = float(input(\"Please input second angle: \"))\n",
    "    c = float(input(\"Please input the thirt angle: \"))\n",
    "\n",
    "    if a + b + c == 180 and (a == 90 or b == 90 or c == 90):\n",
    "        return \"The triangle has a right angle\"\n",
    "    elif a + b + c > 180:\n",
    "        return \"The input makes up more than a triangle\"\n",
    "    elif a + b + c < 180:\n",
    "        return \"The input makes up less than a triangle\"\n",
    "    else:\n",
    "        return \"The triangle does not have a right angle\"\n",
    "    \n",
    "answer = compute_if_right_angle()\n",
    "print (answer)"
   ]
  },
  {
   "cell_type": "markdown",
   "metadata": {},
   "source": [
    "----\n",
    "## 4. Medicine (*)\n",
    "\n",
    "The information in the following table is stated in a medicine package. Also it is stated that for children weight is more important than age.\n",
    "\n",
    "<table align=\"left\">\n",
    "<thead>\n",
    "    <tr>\n",
    "        <th></th>\n",
    "        <th>Age</th>\n",
    "        <th>Number of pills</th>\n",
    "    </tr>\n",
    "</thead>\n",
    "\n",
    "<tbody>\n",
    "  <tr>\n",
    "    <td>Adults & adolescent <br>over 40 kg</td>\n",
    "    <td>over 12 years</td>\n",
    "    <td>1-2</td>\n",
    "  </tr>\n",
    "\n",
    "  <tr>\n",
    "    <td>Children 26-40 kg</td>\n",
    "    <td>7-12 years</td>\n",
    "    <td>1/2-1</td>\n",
    "  </tr>\n",
    "\n",
    "  <tr>\n",
    "    <td>Children 15-25 kg</td>\n",
    "    <td>3-7 years</td>\n",
    "    <td>1/2</td>\n",
    "  </tr>\n",
    "</tbody>\n",
    "</table>"
   ]
  },
  {
   "cell_type": "markdown",
   "metadata": {},
   "source": [
    "Let the user input an **age** and a **weight**, the program should recommend the number of pills for the user."
   ]
  },
  {
   "cell_type": "code",
   "execution_count": 54,
   "metadata": {},
   "outputs": [
    {
     "name": "stdout",
     "output_type": "stream",
     "text": [
      "There is no data for how many pills you should take\n"
     ]
    }
   ],
   "source": [
    "def compute_number_of_pills():\n",
    "    age = int(input(\"Age: \"))\n",
    "    weight = float(input(\"Weight: \"))\n",
    "\n",
    "    if age > 12 and weight > 40:\n",
    "        return \"You should take 1-2 pills\"\n",
    "    elif age >= 3 and age <= 12 and weight >= 26 and weight <= 40:\n",
    "        return \"You should take 1/2-1 pills\"\n",
    "    elif weight >= 15 and weight <= 25:\n",
    "        return \"You should take 1/2 pills\"\n",
    "    else:\n",
    "        return \"There is no data for how many pills you should take\"\n",
    "\n",
    "number_of_pills = compute_number_of_pills()\n",
    "print(number_of_pills)"
   ]
  },
  {
   "cell_type": "markdown",
   "metadata": {},
   "source": [
    "---\n",
    "## 5. Divisible (*)\n",
    "Let the user input a number. Check if the number is\n",
    "<ol type=\"a\">\n",
    "  <li>even or odd</li>\n",
    "  <li>is divisible by 5</li>\n",
    "  <li>is divisble by 5 and odd</li>\n",
    "</ol> "
   ]
  },
  {
   "cell_type": "code",
   "execution_count": 70,
   "metadata": {},
   "outputs": [
    {
     "name": "stdout",
     "output_type": "stream",
     "text": [
      "13 is odd.\n",
      "13 is not divisible by 5.\n",
      "None\n"
     ]
    }
   ],
   "source": [
    "def check_divisibility():\n",
    "    number = int(input(\"Please enter a number: \"))\n",
    "    \n",
    "    # Kontrollerar om numret är jämnt eller udda\n",
    "    if number % 2 == 0:\n",
    "        print(f\"{number} is even.\")\n",
    "    else:\n",
    "        print(f\"{number} is odd.\")\n",
    "    \n",
    "    # Kontrollerar om numret är delbart med 5\n",
    "    if number % 5 == 0:\n",
    "        print(f\"{number} is divisible by 5.\")\n",
    "    else:\n",
    "        print(f\"{number} is not divisible by 5.\")\n",
    "    \n",
    "    # Kontrollerar om numret är udda och delbart med 5\n",
    "    if number % 2 != 0 and number % 5 == 0:\n",
    "        print(f\"{number} is odd and divisible by 5.\")\n",
    "    \n",
    "answer = check_divisibility()\n",
    "print (answer)"
   ]
  },
  {
   "cell_type": "markdown",
   "metadata": {},
   "source": [
    "---\n",
    "## 6. Luggage size (*)\n",
    "\n",
    "The maximum allowed luggage size for boarding an airplane is: \n",
    "- weight: 8kg\n",
    "- dimensions: 55x40x23cm (length x width x height) \n",
    "\n",
    "Let the user input weight, length, width and height of the luggage. The program should check if the luggage is allowed or not."
   ]
  },
  {
   "cell_type": "code",
   "execution_count": 75,
   "metadata": {},
   "outputs": [
    {
     "name": "stdout",
     "output_type": "stream",
     "text": [
      "Welcome on board! Your luggage wont crash the plane\n"
     ]
    }
   ],
   "source": [
    "def check_lugage():\n",
    "    weight = float(input(\"Please input the weight\"))\n",
    "    length = float(input(\"Please input the length\"))\n",
    "    width = float(input(\"Please input the width\"))\n",
    "    height = float(input(\"Please input the height\"))\n",
    "    \n",
    "    if weight <= 8 and length <=55 and width <= 40 and height <=23:\n",
    "        return \"Welcome on board! Your luggage wont crash the plane\"\n",
    "    else:\n",
    "        return \"Your luggage will crash the plane, please choose another one\"\n",
    "    \n",
    "answer = check_lugage()\n",
    "\n",
    "print (answer)\n"
   ]
  },
  {
   "cell_type": "markdown",
   "metadata": {},
   "source": [
    "---\n",
    "\n",
    "Kokchun Giang\n",
    "\n",
    "[LinkedIn][linkedIn_kokchun]\n",
    "\n",
    "[GitHub portfolio][github_portfolio]\n",
    "\n",
    "[linkedIn_kokchun]: https://www.linkedin.com/in/kokchungiang/\n",
    "[github_portfolio]: https://github.com/kokchun/Portfolio-Kokchun-Giang\n",
    "\n",
    "---"
   ]
  }
 ],
 "metadata": {
  "kernelspec": {
   "display_name": "Python 3.9.6 64-bit",
   "language": "python",
   "name": "python3"
  },
  "language_info": {
   "codemirror_mode": {
    "name": "ipython",
    "version": 3
   },
   "file_extension": ".py",
   "mimetype": "text/x-python",
   "name": "python",
   "nbconvert_exporter": "python",
   "pygments_lexer": "ipython3",
   "version": "3.11.5"
  },
  "orig_nbformat": 4,
  "vscode": {
   "interpreter": {
    "hash": "0da836a34428266995a795f1e1e27b816fa1c02f148d9728b3fbbbc5459afca6"
   }
  }
 },
 "nbformat": 4,
 "nbformat_minor": 2
}
