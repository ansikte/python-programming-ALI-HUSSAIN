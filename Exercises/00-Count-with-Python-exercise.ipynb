{
 "cells": [
  {
   "cell_type": "markdown",
   "metadata": {},
   "source": [
    "\n",
    "<a href=\"https://colab.research.google.com/github/kokchun/Python-course-AI22/blob/main/Exercises/00-Count-with-Python-exercise.ipynb\" target=\"_parent\"><img align=\"left\" src=\"https://colab.research.google.com/assets/colab-badge.svg\" alt=\"Open In Colab\"/></a> &nbsp; to see hints and answers."
   ]
  },
  {
   "cell_type": "markdown",
   "metadata": {},
   "source": [
    "# Count with Python\n",
    "\n",
    "---\n",
    "These are introductory exercises in Python for fundamental mathematics. It is important to both know mathematics as well as Python in order to understand machine learning concepts. Also a focus here is to use Python as a tool for solving mathematical problems.\n",
    "\n",
    "<p class = \"alert alert-info\" role=\"alert\"><b>Remember</b> to use <b>variables</b> in your computations </p>\n",
    "\n",
    "<p class = \"alert alert-info\" role=\"alert\"><b>Remember</b> to format your answers in a neat way using <b>f-strings</b>\n",
    "\n",
    "The number of stars (\\*), (\\*\\*), (\\*\\*\\*) denotes the difficulty level of the task\n",
    "\n",
    "---"
   ]
  },
  {
   "cell_type": "markdown",
   "metadata": {},
   "source": [
    "## 1. Pythagorean theorem (*)\n",
    "\n",
    "&nbsp; a) &nbsp;  A right angled triangle has the catheti: a = 3 and b = 4 length units. Compute the <b>hypothenuse</b> of the triangle. (*) \n",
    "  \n",
    "&nbsp; b) &nbsp;  A right angled triangle has hypothenuse c = 7.0 and a cathetus a = 5.0 length units. Compute the other cathetus and round to one decimal. (*)\n",
    "\n",
    "<img align=\"left\" src=\"../Assets/right-angle-triangle.png\" width=\"200\"/>"
   ]
  },
  {
   "cell_type": "markdown",
   "metadata": {},
   "source": [
    "\n",
    "<details>\n",
    "\n",
    "<summary>Hint</summary>\n",
    "\n",
    "[Video lecture][pythagoras_video] (swedish)\n",
    "\n",
    "[pythagoras_video]: https://www.youtube.com/watch?v=3iivEnKEJ88\n",
    "\n",
    "To do square root in Python\n",
    "```python \n",
    "import math\n",
    "math.sqrt()\n",
    "```\n",
    "\n",
    "</details>\n",
    "<br>\n",
    "<details>\n",
    "\n",
    "<summary>Answer</summary>\n",
    "a) \n",
    "\n",
    "```\n",
    "The hypothenuse is 5 length units\n",
    "```\n",
    "\n",
    "b)\n",
    "\n",
    "```\n",
    "The other cathetus is 4.9 length units\n",
    "```\n",
    "\n",
    "</details>"
   ]
  },
  {
   "cell_type": "markdown",
   "metadata": {},
   "source": [
    "## 1 a)"
   ]
  },
  {
   "cell_type": "code",
   "execution_count": 14,
   "metadata": {},
   "outputs": [
    {
     "name": "stdout",
     "output_type": "stream",
     "text": [
      "The length of the hypotenuse is 5.0\n"
     ]
    }
   ],
   "source": [
    "# Importing the math module so we can use square-root function\n",
    "import math\n",
    "\n",
    "def calculate_hypotenus(cathetus_a, cathetus_b):\n",
    "    # Calculating the length of the hypotenuse using the Pythagoras theorem.\n",
    "    return math.sqrt(cathetus_a**2 + cathetus_b**2)\n",
    "\n",
    "cathetus_a = 3\n",
    "cathetus_b = 4\n",
    "\n",
    "hypotenous = calculate_hypotenus(cathetus_a, cathetus_b)\n",
    "print (f\"The length of the hypotenuse is {hypotenous}\")"
   ]
  },
  {
   "cell_type": "markdown",
   "metadata": {},
   "source": [
    "## 1 b)"
   ]
  },
  {
   "cell_type": "code",
   "execution_count": 35,
   "metadata": {},
   "outputs": [
    {
     "name": "stdout",
     "output_type": "stream",
     "text": [
      "The length of cathetus b is: 4.9\n"
     ]
    }
   ],
   "source": [
    "# Importing the math module so we can use the square-root function.\n",
    "import math\n",
    "\n",
    "def calculate_cathetus_b(hypotenus, cathetus_a):\n",
    "    # Calculating the length of the cathetus b using the Pythagoras theorem.\n",
    "    return math.sqrt(hypotenus**2 - cathetus_a**2)\n",
    "\n",
    "hypotenus = 7\n",
    "cathetus_a = 5\n",
    "\n",
    "cathetus_b = calculate_cathetus_b(hypotenus, cathetus_a)\n",
    "\n",
    "# Rounding to one decimal\n",
    "print (f\"The length of cathetus b is: {cathetus_b:.2}\")"
   ]
  },
  {
   "cell_type": "markdown",
   "metadata": {},
   "source": [
    "-----\n",
    "## 2. Classification accuracy (*)\n",
    "\n",
    "A machine learning algorithm has been trained to predict whether or not it would rain the next day. Out of 365 predictions, it got 300 correct, compute the accuracy of this model."
   ]
  },
  {
   "cell_type": "code",
   "execution_count": 51,
   "metadata": {},
   "outputs": [
    {
     "name": "stdout",
     "output_type": "stream",
     "text": [
      "The accuracy of this machine learning algorithm is 82.19 %\n"
     ]
    }
   ],
   "source": [
    "def calculate_accuracy(total_predictions, total_correct_predictions):\n",
    "    return (total_correct_predictions / total_predictions) * 100\n",
    "\n",
    "total_predictions = 365\n",
    "total_correct_predictions = 300\n",
    "\n",
    "accuracy = calculate_accuracy(total_predictions, total_correct_predictions)\n",
    "\n",
    "print (f\"The accuracy of this machine learning algorithm is {accuracy:.2f} %\")"
   ]
  },
  {
   "cell_type": "markdown",
   "metadata": {},
   "source": [
    "---\n",
    "## 3. Classification accuracy (*)\n",
    "A machine learning model has been trained to detect fire. Here is the result of its predictions: \n",
    "\n",
    "<table align=\"left\">\n",
    "<tbody>\n",
    "  <tr>\n",
    "    <td>True Positive (TP)\n",
    "      <ul>\n",
    "        <li>Reality: fire</li>\n",
    "        <li>Predicted: fire</li>\n",
    "        <li>Number of TP: 2</li>\n",
    "      </ul>\n",
    "    </td>\n",
    "    <td>False Positive (FP)\n",
    "      <ul>\n",
    "        <li>Reality: no fire</li>\n",
    "        <li>Predicted: fire</li>\n",
    "        <li>Number of FP: 2</li>\n",
    "      </ul>\n",
    "    </td>\n",
    "  </tr>\n",
    "\n",
    "  <tr>\n",
    "    <td>False Negative (FN)\n",
    "      <ul>\n",
    "        <li>Reality: fire</li>\n",
    "        <li>Predicted: no fire</li>\n",
    "        <li>Number of FN: 11</li>\n",
    "      </ul>\n",
    "    </td>\n",
    "    <td>True Negative (TN)\n",
    "      <ul>\n",
    "        <li>Reality: no fire</li>\n",
    "        <li>Predicted: no fire</li>\n",
    "        <li>Number of TN: 985</li>\n",
    "      </ul>\n",
    "    </td>\n",
    "  </tr>\n",
    "</tbody>\n",
    "</table>"
   ]
  },
  {
   "cell_type": "markdown",
   "metadata": {},
   "source": [
    "Calculated the accuracy using the following formula:\n",
    "\n",
    "$\\text{accuracy} = \\frac{TP+TN}{TP+TN+FP+FN}$\n",
    "\n",
    "Is this a good model?\n",
    "\n",
    "<details> \n",
    "\n",
    "<summary>Hint </summary>\n",
    "\n",
    "Try to understand what it means for the actual user with each category\n",
    "\n",
    "</details>\n",
    "<br>\n",
    "<details> \n",
    "\n",
    "<summary>Answer </summary>\n",
    "\n",
    "```\n",
    "The accuracy of this model is 0.987.\n",
    "```\n",
    "\n",
    "</details>"
   ]
  },
  {
   "cell_type": "code",
   "execution_count": 113,
   "metadata": {},
   "outputs": [
    {
     "name": "stdout",
     "output_type": "stream",
     "text": [
      "The accuracy of the total predictions is 98.7 %\n"
     ]
    }
   ],
   "source": [
    "def calculate_accuracy(tp, fp, fn, tn):\n",
    "    return (tp + tn) / (tp + tn + fp + fn) * 100\n",
    "\n",
    "tp, fp, fn, tn = (2, 2, 11, 985)\n",
    "\n",
    "accuracy = calculate_accuracy(tp, fp, fn, tn)\n",
    "\n",
    "print (f\"The accuracy of the total predictions is {accuracy} %\")"
   ]
  },
  {
   "cell_type": "markdown",
   "metadata": {},
   "source": [
    "--- \n",
    "## 4. Line (*)\n",
    "Compute the slope $k$ and the constant term $m$ of this line using the points $A: (4,4)$ and $B: (0,1)$.  \n",
    "\n",
    "<img align=\"left\" src=\"../Assets/line.png\" width=\"200\"/>"
   ]
  },
  {
   "cell_type": "markdown",
   "metadata": {},
   "source": [
    "<details> \n",
    "\n",
    "<summary>Hint </summary>\n",
    "\n",
    "$k = \\frac{\\Delta y}{\\Delta x} = \\frac{y_2 - y_1}{x_2 - x_1}$\n",
    "\n",
    "Either plug in one point into $y = kx + m$ and solve for $m$ or read the intersection with y-axis in the graph.\n",
    "\n",
    "[Video lecture][video_line] (Swedish)\n",
    "\n",
    "[video_line]: https://www.youtube.com/watch?v=9Buuq6rkaJ0\n",
    "\n",
    "</details>\n",
    "<br>\n",
    "<details> \n",
    "\n",
    "<summary>Solution </summary>\n",
    "\n",
    "```\n",
    "k = 0.75, m = 1, so the equation for the slope is y = 0.75x + 1\n",
    "```\n",
    "\n",
    "</details>\n"
   ]
  },
  {
   "cell_type": "code",
   "execution_count": 79,
   "metadata": {},
   "outputs": [
    {
     "name": "stdout",
     "output_type": "stream",
     "text": [
      "y =0.75x+1.0\n",
      "Lutningen k = 0.75 och y-skärningspunkten m = 1.0 \n"
     ]
    }
   ],
   "source": [
    "def compute_slope(a, b):\n",
    "    x1, y1 = a\n",
    "    x2, y2 = b\n",
    "    k = (y2 - y1) / (x2 - x1)\n",
    "    m = y1 - k * x1\n",
    "    return (k, m)\n",
    "\n",
    "a = (4, 4)\n",
    "b = (0, 1)\n",
    "\n",
    "k, m = compute_slope(a, b)\n",
    "\n",
    "print (f\"Lutningen k = {k} och y-skärningspunkten m = {m} \")\n",
    "print (f\"y ={k}x+{m}\")"
   ]
  },
  {
   "cell_type": "markdown",
   "metadata": {},
   "source": [
    "---\n",
    "## 5. Euclidean distance (*)\n",
    "\n",
    "The Euclideam distance between the points $P_1$ and $P_2$ is the length of a line between them. Let $P_1: (3,5)$ and $P_2: (-2,4)$ and compute the distance between them."
   ]
  },
  {
   "cell_type": "markdown",
   "metadata": {},
   "source": [
    "<details> \n",
    "\n",
    "<summary>Hint </summary>\n",
    "The formula is: \n",
    "\n",
    "$\\text{distance} = \\sqrt{(x_2-x_1)^2 +(y_2-y_1)^2}$\n",
    "\n",
    "[Video lecture][video_distance] (Swedish)\n",
    "\n",
    "[video_distance]: https://www.youtube.com/watch?v=DrTsKgHg7ng\n",
    "\n",
    "</details>\n",
    "<br>\n",
    "<details> \n",
    "\n",
    "<summary>Answer </summary>\n",
    "\n",
    "```\n",
    "The distance is around 5.1 length units.\n",
    "```\n",
    "\n",
    "</details>"
   ]
  },
  {
   "cell_type": "code",
   "execution_count": 98,
   "metadata": {},
   "outputs": [
    {
     "name": "stdout",
     "output_type": "stream",
     "text": [
      "The distance betweem P1 and P2 is 5.1\n"
     ]
    }
   ],
   "source": [
    "import math\n",
    "\n",
    "def compute_euclidean_distance_2d(x1, y1, x2, y2):\n",
    "    distance = math.sqrt((x2 - x1)**2 + (y2 - y1)**2)\n",
    "    return distance\n",
    "\n",
    "x1, y1 = (3, 5)\n",
    "x2, y2 = (-2, 4)\n",
    "\n",
    "distance = (compute_euclidean_distance_2d(x1, y1, x2, y2))\n",
    "print (f\"The distance betweem P1 and P2 is {distance:.2}\")"
   ]
  },
  {
   "cell_type": "markdown",
   "metadata": {},
   "source": [
    "---\n",
    "## 6. Euclidean distance in 3D (**)\n",
    "\n",
    "Calculate the distance between the points $P_1: (2,1,4)$ and $P_2: (3,1,0)$ \n",
    "\n",
    "<details> \n",
    "\n",
    "<summary>Hint </summary>\n",
    "\n",
    "Let $p =(p_1, p_2, p_3)$ and $q = (q_1, q_2, q_3) \\Rightarrow$   \n",
    "\n",
    "$d(p,q) = \\sqrt{(p_1-q_1)^2 +(p_2-q_2)^2 +(p_3-q_3)^2 }$, where $d(p,q)$ is the Euclidean distance between $p$ and $q$\n",
    "\n",
    "</details>\n",
    "<br>\n",
    "<details> \n",
    "\n",
    "<summary>Answer </summary>\n",
    "\n",
    "```\n",
    "The distance is around 4.12 l.u.\n",
    "```\n",
    "\n",
    "</details>"
   ]
  },
  {
   "cell_type": "code",
   "execution_count": 111,
   "metadata": {},
   "outputs": [
    {
     "name": "stdout",
     "output_type": "stream",
     "text": [
      "The euclidean distance in the 3 dimensional space is around: 4.12 l.u.\n"
     ]
    }
   ],
   "source": [
    "import math\n",
    "\n",
    "def compute_euclidean_distance_3d(point1, point2):\n",
    "    p1, p2, p3 = point1\n",
    "    q1, q2, q3 = point2\n",
    "    distance = math.sqrt((p1 - q1)**2 + (p2 - q2)**2 + (p3 - q3)**2)\n",
    "    return distance\n",
    "\n",
    "point1 = (2, 1, 4)\n",
    "point2 = (3, 1, 0)\n",
    "\n",
    "distance = compute_euclidean_distance_3d(point1, point2)\n",
    "print(f\"The euclidean distance in the 3 dimensional space is around: {distance:.2f} l.u.\")"
   ]
  },
  {
   "cell_type": "markdown",
   "metadata": {},
   "source": [
    "---\n",
    "\n",
    "Kokchun Giang\n",
    "\n",
    "[LinkedIn][linkedIn_kokchun]\n",
    "\n",
    "[GitHub portfolio][github_portfolio]\n",
    "\n",
    "[linkedIn_kokchun]: https://www.linkedin.com/in/kokchungiang/\n",
    "[github_portfolio]: https://github.com/kokchun/Portfolio-Kokchun-Giang\n",
    "\n",
    "---"
   ]
  }
 ],
 "metadata": {
  "kernelspec": {
   "display_name": "Python 3.9.6 64-bit",
   "language": "python",
   "name": "python3"
  },
  "language_info": {
   "codemirror_mode": {
    "name": "ipython",
    "version": 3
   },
   "file_extension": ".py",
   "mimetype": "text/x-python",
   "name": "python",
   "nbconvert_exporter": "python",
   "pygments_lexer": "ipython3",
   "version": "3.11.5"
  },
  "orig_nbformat": 4,
  "vscode": {
   "interpreter": {
    "hash": "0da836a34428266995a795f1e1e27b816fa1c02f148d9728b3fbbbc5459afca6"
   }
  }
 },
 "nbformat": 4,
 "nbformat_minor": 2
}
