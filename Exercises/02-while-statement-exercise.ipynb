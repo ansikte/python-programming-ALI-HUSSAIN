{
 "cells": [
  {
   "cell_type": "markdown",
   "metadata": {},
   "source": [
    "<a href=\"https://colab.research.google.com/github/kokchun/Python-course-AI22/blob/main/Exercises/02-while-statement-exercise.ipynb\" target=\"_parent\"><img align=\"left\" src=\"https://colab.research.google.com/assets/colab-badge.svg\" alt=\"Open In Colab\"/></a> &nbsp; to see hints and answers."
   ]
  },
  {
   "cell_type": "markdown",
   "metadata": {},
   "source": [
    "# while statement exercises\n",
    "\n",
    "---\n",
    "These are introductory exercises in Python with focus in **while** statement.\n",
    "\n",
    "<p class = \"alert alert-info\" role=\"alert\"><b>Remember</b> to use <b>descriptive variable names</b> in order to get readable code </p>\n",
    "\n",
    "<p class = \"alert alert-info\" role=\"alert\"><b>Remember</b> to format your answers in a neat way using <b>f-strings</b>\n",
    "\n",
    "<p class = \"alert alert-info\" role=\"alert\"><b>Remember</b> to format your input questions in a pedagogical way to guide the user\n",
    "\n",
    "The number of stars (\\*), (\\*\\*), (\\*\\*\\*) denotes the difficulty level of the task\n",
    "\n",
    "---"
   ]
  },
  {
   "cell_type": "markdown",
   "metadata": {},
   "source": [
    "## 1. Count numbers (*)\n",
    "\n",
    "Use a **while** statement to count from -10 to 10 with one increment. \n",
    "\n",
    "<details>\n",
    "\n",
    "<summary>Hint </summary>\n",
    "\n",
    "```python\n",
    "\n",
    "i += 1 # adds one and assigns it to i, equivalent to i = i + 1\n",
    "```\n",
    "\n",
    "</details>\n",
    "<br>\n",
    "<details>\n",
    "\n",
    "<summary>Answer </summary>\n",
    "\n",
    "```\n",
    "\n",
    "-10 -9 -8 -7 -6 -5 -4 -3 -2 -1 0 1 2 3 4 5 6 7 8 9 10\n",
    "```\n",
    "\n",
    "</details>\n"
   ]
  },
  {
   "cell_type": "code",
   "execution_count": 10,
   "metadata": {},
   "outputs": [
    {
     "name": "stdout",
     "output_type": "stream",
     "text": [
      "-10\n",
      "-9\n",
      "-8\n",
      "-7\n",
      "-6\n",
      "-5\n",
      "-4\n",
      "-3\n",
      "-2\n",
      "-1\n",
      "0\n",
      "1\n",
      "2\n",
      "3\n",
      "4\n",
      "5\n",
      "6\n",
      "7\n",
      "8\n",
      "9\n",
      "10\n"
     ]
    }
   ],
   "source": [
    "count = -10\n",
    "\n",
    "while count <= 10:\n",
    "    print (count)\n",
    "    count += 1"
   ]
  },
  {
   "cell_type": "markdown",
   "metadata": {},
   "source": [
    "--- \n",
    "## 2. Arithmetic sum (*)\n",
    "Use a **while** statement to compute the following sums: \n",
    "\n",
    "&nbsp; a) &nbsp; $\\text{sum} = 1 + 2 + \\ldots + 99+ 100$\n",
    "\n",
    "&nbsp; b) &nbsp; $\\text{sum} = 1 + 3 + 5 + \\ldots + 97 + 99$\n",
    "\n",
    "<details>\n",
    "\n",
    "<summary>Answer </summary>\n",
    "\n",
    "```\n",
    "a) 1 + 2 + ... + 99 + 100 = 5050 \n",
    "\n",
    "b) 1 + 3 + 5 +...+ 97 + 99 = 2500\n",
    "```\n",
    "\n",
    "</details>"
   ]
  },
  {
   "cell_type": "code",
   "execution_count": 39,
   "metadata": {},
   "outputs": [
    {
     "name": "stdout",
     "output_type": "stream",
     "text": [
      "The sum of odd numbers from 1 to 100 is: 1 + 2 + 3 + 4 + 5 + 6 + 7 + 8 + 9 + 10 + 11 + 12 + 13 + 14 + 15 + 16 + 17 + 18 + 19 + 20 + 21 + 22 + 23 + 24 + 25 + 26 + 27 + 28 + 29 + 30 + 31 + 32 + 33 + 34 + 35 + 36 + 37 + 38 + 39 + 40 + 41 + 42 + 43 + 44 + 45 + 46 + 47 + 48 + 49 + 50 + 51 + 52 + 53 + 54 + 55 + 56 + 57 + 58 + 59 + 60 + 61 + 62 + 63 + 64 + 65 + 66 + 67 + 68 + 69 + 70 + 71 + 72 + 73 + 74 + 75 + 76 + 77 + 78 + 79 + 80 + 81 + 82 + 83 + 84 + 85 + 86 + 87 + 88 + 89 + 90 + 91 + 92 + 93 + 94 + 95 + 96 + 97 + 98 + 99 + 100 = 5050\n"
     ]
    }
   ],
   "source": [
    "numbers_strings = []\n",
    "sum_numbers = 0\n",
    "counter = 1\n",
    "\n",
    "while counter <= 100:\n",
    "    sum_numbers += counter\n",
    "    numbers_strings.append(str(counter))\n",
    "    counter += 1\n",
    "\n",
    "expression = \" + \".join(numbers_strings)\n",
    "print(f\"The sum of odd numbers from 1 to 100 is: {expression} = {sum_numbers}\")"
   ]
  },
  {
   "cell_type": "code",
   "execution_count": 41,
   "metadata": {},
   "outputs": [
    {
     "name": "stdout",
     "output_type": "stream",
     "text": [
      "The sum of odd numbers from 1 to 99 is: 1 + 3 + 5 + 7 + 9 + 11 + 13 + 15 + 17 + 19 + 21 + 23 + 25 + 27 + 29 + 31 + 33 + 35 + 37 + 39 + 41 + 43 + 45 + 47 + 49 + 51 + 53 + 55 + 57 + 59 + 61 + 63 + 65 + 67 + 69 + 71 + 73 + 75 + 77 + 79 + 81 + 83 + 85 + 87 + 89 + 91 + 93 + 95 + 97 + 99 = 2500\n"
     ]
    }
   ],
   "source": [
    "numbers_strings = []\n",
    "sum_odd_numbers = 0\n",
    "counter = 1\n",
    "\n",
    "while counter < 100:\n",
    "    sum_odd_numbers += counter\n",
    "    numbers_strings.append(str(counter))\n",
    "    counter += 2\n",
    "\n",
    "expression = \" + \".join(numbers_strings)\n",
    "print(f\"The sum of odd numbers from 1 to 99 is: {expression} = {sum_odd_numbers}\")"
   ]
  },
  {
   "cell_type": "markdown",
   "metadata": {},
   "source": [
    "--- \n",
    "## 3. Guess number game (*)\n",
    "&nbsp; a) &nbsp; Create a guessing number game following this flow chart: \n",
    "\n",
    "<img align=\"left\" src=\"../Assets/guessing_game.png\" width=\"300\"/>"
   ]
  },
  {
   "cell_type": "markdown",
   "metadata": {},
   "source": [
    "&nbsp; b) &nbsp; Make an algorithm to automatically guess the correct number. Can you optimize to get as few guesses as possible? (**)\n",
    "\n",
    "<details>\n",
    "\n",
    "<summary>Hint </summary>\n",
    "\n",
    "&nbsp; b) &nbsp; Half your testing number each time \n",
    "\n",
    "</details>"
   ]
  },
  {
   "cell_type": "code",
   "execution_count": 1,
   "metadata": {},
   "outputs": [
    {
     "name": "stdout",
     "output_type": "stream",
     "text": [
      "The number is lower\n",
      "You have guessed a total of 1 times.\n",
      "The number is lower\n",
      "You have guessed a total of 2 times.\n",
      "The number is lower\n",
      "You have guessed a total of 3 times.\n",
      "The number is lower\n",
      "You have guessed a total of 4 times.\n",
      "The number is lower\n",
      "You have guessed a total of 5 times.\n",
      "The number is lower\n",
      "You have guessed a total of 6 times.\n",
      "The number is higher\n",
      "You have guessed a total of 7 times.\n",
      "Invalid input. Please enter an integer.\n",
      "The number is lower\n",
      "You have guessed a total of 8 times.\n",
      "The number is lower\n",
      "You have guessed a total of 9 times.\n",
      "The number is lower\n",
      "You have guessed a total of 10 times.\n",
      "The number is higher\n",
      "You have guessed a total of 11 times.\n",
      "Invalid input. Please enter an integer.\n",
      "Invalid input. Please enter an integer.\n",
      "Invalid input. Please enter an integer.\n",
      "Invalid input. Please enter an integer.\n",
      "Invalid input. Please enter an integer.\n",
      "Invalid input. Please enter an integer.\n",
      "Invalid input. Please enter an integer.\n",
      "Invalid input. Please enter an integer.\n",
      "Invalid input. Please enter an integer.\n",
      "Invalid input. Please enter an integer.\n",
      "Invalid input. Please enter an integer.\n",
      "Invalid input. Please enter an integer.\n",
      "Invalid input. Please enter an integer.\n",
      "Invalid input. Please enter an integer.\n",
      "Invalid input. Please enter an integer.\n",
      "Invalid input. Please enter an integer.\n",
      "Invalid input. Please enter an integer.\n",
      "Invalid input. Please enter an integer.\n",
      "Invalid input. Please enter an integer.\n",
      "Invalid input. Please enter an integer.\n",
      "Invalid input. Please enter an integer.\n",
      "Invalid input. Please enter an integer.\n",
      "Invalid input. Please enter an integer.\n",
      "Invalid input. Please enter an integer.\n",
      "Invalid input. Please enter an integer.\n",
      "Invalid input. Please enter an integer.\n",
      "Invalid input. Please enter an integer.\n",
      "Invalid input. Please enter an integer.\n",
      "Invalid input. Please enter an integer.\n",
      "Invalid input. Please enter an integer.\n",
      "Invalid input. Please enter an integer.\n",
      "Invalid input. Please enter an integer.\n",
      "Invalid input. Please enter an integer.\n",
      "Invalid input. Please enter an integer.\n",
      "Invalid input. Please enter an integer.\n",
      "Invalid input. Please enter an integer.\n",
      "Invalid input. Please enter an integer.\n",
      "Invalid input. Please enter an integer.\n",
      "Invalid input. Please enter an integer.\n",
      "Invalid input. Please enter an integer.\n",
      "Invalid input. Please enter an integer.\n",
      "Invalid input. Please enter an integer.\n"
     ]
    }
   ],
   "source": [
    "import random\n",
    "\n",
    "def generate_random_integer(low, high):\n",
    "    return random.randint(low, high)\n",
    "\n",
    "def get_user_guess():\n",
    "    while True:\n",
    "        try:\n",
    "            return int(input(\"Type your guess: \"))\n",
    "        except ValueError:\n",
    "            print(\"Invalid input. Please enter an integer.\")\n",
    "\n",
    "def give_clue(random_integer, user_guess):\n",
    "    if user_guess < random_integer:\n",
    "        print (\"The number is higher\")\n",
    "    else:\n",
    "        print (\"The number is lower\")\n",
    "\n",
    "def check_if_correct(random_integer, user_guess, counter):\n",
    "    if user_guess == random_integer:\n",
    "        print(f\"Congrats, you guessed correctly in {counter} times!\")\n",
    "        return True\n",
    "    else:\n",
    "        give_clue(random_integer, user_guess)\n",
    "        print(f\"You have guessed a total of {counter} times.\")\n",
    "        return False, counter\n",
    "\n",
    "counter = 0\n",
    "random_integer = generate_random_integer(1, 100)\n",
    "\n",
    "while True:\n",
    "    counter += 1\n",
    "    user_guess = get_user_guess()\n",
    "    result = check_if_correct(random_integer, user_guess, counter)\n",
    "    if isinstance(result, tuple):\n",
    "        continue\n",
    "    else:\n",
    "        break\n"
   ]
  },
  {
   "cell_type": "code",
   "execution_count": null,
   "metadata": {},
   "outputs": [],
   "source": [
    "import random\n",
    "\n",
    "def automated_guess(low, high):\n",
    "    return (low + high) // 2\n",
    "\n",
    "def check_guess(guess, actual_number):\n",
    "    if guess < actual_number:\n",
    "        return 'lower'\n",
    "    elif guess > actual_number:\n",
    "        return 'higher'\n",
    "    else:\n",
    "        return 'correct'   \n",
    "\n",
    "# Randomly generate the actual number to be guessed\n",
    "actual_number = random.randint(1, 100)\n",
    "\n",
    "low = 1\n",
    "high = 100\n",
    "counter = 0  # Initialize the counter\n",
    "\n",
    "while True:\n",
    "    counter += 1  # Increment the counter at the beginning of each loop iteration\n",
    "    guess = automated_guess(low, high)\n",
    "    print(f\"Automated guess is: {guess}\")  \n",
    "    \n",
    "    result = check_guess(guess, actual_number)\n",
    "    \n",
    "    if result == 'correct':\n",
    "        print(f\"The automated guesser found the number: {guess} in {counter} guesses\")\n",
    "        break\n",
    "    elif result == 'lower':\n",
    "        low = guess + 1\n",
    "    else:  # The result is 'higher'\n",
    "        high = guess - 1\n"
   ]
  },
  {
   "cell_type": "markdown",
   "metadata": {},
   "source": [
    "--- \n",
    "## 4. Multiplication game (*)\n",
    "&nbsp; a) &nbsp; Create a multiplication game following this flow chart: \n",
    "\n",
    "<img align=\"left\" src=\"../Assets/Multiplication_game.png\" width=\"300\"/>"
   ]
  },
  {
   "cell_type": "code",
   "execution_count": 107,
   "metadata": {},
   "outputs": [
    {
     "name": "stdout",
     "output_type": "stream",
     "text": [
      "Not quite. The answer was 3818 * 4355 = 16627390\n",
      "You have played 1 times.\n"
     ]
    }
   ],
   "source": [
    "import random\n",
    "\n",
    "times_played = 0  # counter for times played\n",
    "\n",
    "while True:\n",
    "\n",
    "    difficulty_level = int(input(\"What level do you want to play? Input 1 for (easy)- 5 (hard)\"))\n",
    "    \n",
    "    if difficulty_level == 1:\n",
    "        factor1 = random.randint(1, 10)\n",
    "        factor2 = random.randint(1, 10)\n",
    "    elif difficulty_level == 2:\n",
    "        factor1 = random.randint(1, 100)\n",
    "        factor2 = random.randint(1, 100)\n",
    "    elif difficulty_level == 3:\n",
    "        factor1 = random.randint(1, 1000)\n",
    "        factor2 = random.randint(1, 1000)\n",
    "    elif difficulty_level == 4:\n",
    "        factor1 = random.randint(1, 10000)\n",
    "        factor2 = random.randint(1, 10000)\n",
    "    elif difficulty_level == 5:\n",
    "        factor1 = random.randint(1, 100000)\n",
    "        factor2 = random.randint(1, 100000)\n",
    "    else:\n",
    "        print(\"Invalid input!\")\n",
    "        continue\n",
    "    \n",
    "\n",
    "    user_answer = int(input(f\"What is the result of {factor1} times {factor2}? \"))\n",
    "    correct_answer = factor1 * factor2\n",
    "    \n",
    "    if user_answer == correct_answer:\n",
    "        message = \"Good work!\"\n",
    "    else:\n",
    "        message = f\"Not quite. The answer was {factor1} * {factor2} = {correct_answer}\"\n",
    "    \n",
    "    print(message)\n",
    "    \n",
    "    times_played += 1\n",
    "    print(f\"You have played {times_played} times.\")\n",
    "\n",
    "    play_again = input(\"Do you want to play again? (yes/no): \")\n",
    "    \n",
    "    if play_again.lower() != 'yes':\n",
    "        break\n"
   ]
  },
  {
   "cell_type": "markdown",
   "metadata": {},
   "source": [
    "--- \n",
    "## 5. Check convergence (**)\n",
    "Use a while statement to compute the following sums: \n",
    "\n",
    "&nbsp; a) &nbsp; $\\text{sum} = 1 + \\frac{1}{2} + \\frac{1}{4} + \\frac{1}{8} + \\dots + \\frac{1}{2^n}$\n",
    "\n",
    "&nbsp; b) &nbsp; $\\text{sum} = 1 - \\frac{1}{3} + \\frac{1}{5} - \\frac{1}{7} + \\dots + \\frac{(-1)^n}{2n+1}$\n",
    "\n",
    "Try different values on $n$ to see which value it converges to.\n",
    "\n",
    "<details>\n",
    "\n",
    "<summary>Answer </summary>\n",
    "\n",
    "&nbsp; a) &nbsp; $1 + \\frac{1}{2} + \\frac{1}{4} + \\frac{1}{8} + \\dots + \\frac{1}{2^n} \\xrightarrow[n\\rightarrow \\infty]{} 2$ \n",
    "\n",
    "&nbsp; b) &nbsp; $ 1 - \\frac{1}{3} + \\frac{1}{5} - \\frac{1}{7} + \\dots + \\frac{(-1)^n}{2n+1} \\xrightarrow[n\\rightarrow \\infty]{} \\frac{\\pi}{4}$\n",
    "\n",
    "</details>"
   ]
  },
  {
   "cell_type": "code",
   "execution_count": 131,
   "metadata": {},
   "outputs": [
    {
     "name": "stdout",
     "output_type": "stream",
     "text": [
      "The sum for a) converges to: 2.0\n",
      "The sum for b) converges to: 0.7853731633975086\n"
     ]
    }
   ],
   "source": [
    "sum_a = 0\n",
    "n = 0\n",
    "terms = 1000\n",
    "\n",
    "while n < terms:\n",
    "    sum_a += 1 / (2 ** n)\n",
    "    n += 1\n",
    "print(f\"The sum for a) converges to: {sum_a}\")\n",
    "\n",
    "\n",
    "sum_b = 0\n",
    "n = 0\n",
    "terms = 10000\n",
    "\n",
    "while n < terms:\n",
    "    sum_b += ((-1) ** n) / (2 * n + 1)\n",
    "    n += 1\n",
    "print(f\"The sum for b) converges to: {sum_b}\")\n"
   ]
  },
  {
   "cell_type": "markdown",
   "metadata": {},
   "source": [
    "---\n",
    "\n",
    "Kokchun Giang\n",
    "\n",
    "[LinkedIn][linkedIn_kokchun]\n",
    "\n",
    "[GitHub portfolio][github_portfolio]\n",
    "\n",
    "[linkedIn_kokchun]: https://www.linkedin.com/in/kokchungiang/\n",
    "[github_portfolio]: https://github.com/kokchun/Portfolio-Kokchun-Giang\n",
    "\n",
    "---"
   ]
  }
 ],
 "metadata": {
  "kernelspec": {
   "display_name": "Python 3.9.6 64-bit",
   "language": "python",
   "name": "python3"
  },
  "language_info": {
   "codemirror_mode": {
    "name": "ipython",
    "version": 3
   },
   "file_extension": ".py",
   "mimetype": "text/x-python",
   "name": "python",
   "nbconvert_exporter": "python",
   "pygments_lexer": "ipython3",
   "version": "3.11.5"
  },
  "orig_nbformat": 4,
  "vscode": {
   "interpreter": {
    "hash": "0da836a34428266995a795f1e1e27b816fa1c02f148d9728b3fbbbc5459afca6"
   }
  }
 },
 "nbformat": 4,
 "nbformat_minor": 2
}
