{
 "cells": [
  {
   "cell_type": "markdown",
   "metadata": {},
   "source": [
    "<a href=\"https://colab.research.google.com/github/kokchun/Python-course-AI22/blob/main/Exercises/05-strings-exercise.ipynb\" target=\"_parent\"><img align=\"left\" src=\"https://colab.research.google.com/assets/colab-badge.svg\" alt=\"Open In Colab\"/></a> &nbsp; to see hints and answers."
   ]
  },
  {
   "cell_type": "markdown",
   "metadata": {},
   "source": [
    "# strings exercises\n",
    "\n",
    "---\n",
    "These are introductory exercises in Python with focus in **strings**.\n",
    "\n",
    "<p class = \"alert alert-info\" role=\"alert\"><b>Remember</b> to use <b>descriptive variable names</b> in order to get readable code </p>\n",
    "\n",
    "<p class = \"alert alert-info\" role=\"alert\"><b>Remember</b> to format your answers in a neat way using <b>f-strings</b>\n",
    "\n",
    "<p class = \"alert alert-info\" role=\"alert\"><b>Remember</b> to format your input questions in a pedagogical way to guide the user\n",
    "\n",
    "The number of stars (\\*), (\\*\\*), (\\*\\*\\*) denotes the difficulty level of the task\n",
    "\n",
    "---"
   ]
  },
  {
   "cell_type": "markdown",
   "metadata": {},
   "source": [
    "## 1. Counting letters (*)\n",
    "\n",
    "Let the user input a word: \n",
    "\n",
    "&nbsp; a) &nbsp; print out the number of letters in the word. (*) \n",
    "  \n",
    "&nbsp; b) &nbsp; print out the number of **uppercase** and **lowercase** letters of the word (*)   \n"
   ]
  },
  {
   "cell_type": "code",
   "execution_count": 1,
   "metadata": {},
   "outputs": [
    {
     "name": "stdout",
     "output_type": "stream",
     "text": [
      "5\n",
      "The number of letters in your word is 5 and 0 of them where Uppercase and 5 of them where lowercase.\n"
     ]
    }
   ],
   "source": [
    "user_input_word = input(\"Please input a word\")\n",
    "\n",
    "number_of_characters = len(user_input_word)\n",
    "print (number_of_characters) \n",
    "\n",
    "upper_count = 0\n",
    "lower_count = 0\n",
    "\n",
    "for char in user_input_word:\n",
    "    if char.isupper():\n",
    "        upper_count += 1\n",
    "    elif char.islower():\n",
    "        lower_count += 1\n",
    "\n",
    "print (f\"The number of letters in your word is {number_of_characters} and {upper_count} of them where Uppercase and {lower_count} of them where lowercase.\")\n"
   ]
  },
  {
   "cell_type": "markdown",
   "metadata": {},
   "source": [
    "---\n",
    "## 2. Print names separately (*)\n",
    "\n",
    "Ask the user to input their first and last name (same input e.g. \"Fredrik Johansson\"). Then print the names separately:\n",
    "\n",
    "<details>\n",
    "\n",
    "<summary>Answer</summary>\n",
    "\n",
    "```\n",
    "Firstname: Fredrik\n",
    "Lastname: Johansson\n",
    "```"
   ]
  },
  {
   "cell_type": "code",
   "execution_count": 2,
   "metadata": {},
   "outputs": [
    {
     "name": "stdout",
     "output_type": "stream",
     "text": [
      "First name: ali\n",
      "Last name: baba\n"
     ]
    }
   ],
   "source": [
    "user_input_name = input(\"Please input your first and last name: \")\n",
    "first_name, last_name = user_input_name.split()\n",
    "\n",
    "print(f\"First name: {first_name}\")  \n",
    "print(f\"Last name: {last_name}\")  \n",
    "\n"
   ]
  },
  {
   "cell_type": "markdown",
   "metadata": {},
   "source": [
    "---\n",
    "## 3. Counting words (*)\n",
    "\n",
    "Count the number of words in this sentence: \"A picture says more than a thousand words, a matematical formula says more than a thousand pictures.\" (*) \n",
    "\n",
    "<details>\n",
    "\n",
    "<summary>Answer</summary>\n",
    "\n",
    "```\n",
    "There are 17 words in that sentence\n",
    "```"
   ]
  },
  {
   "cell_type": "code",
   "execution_count": 3,
   "metadata": {},
   "outputs": [
    {
     "name": "stdout",
     "output_type": "stream",
     "text": [
      "17\n"
     ]
    }
   ],
   "source": [
    "sentence = \"A picture says more than a thousand words, a matematical formula says more than a thousand pictures.\"\n",
    "words = sentence.split()\n",
    "\n",
    "number_of_words = len(words)\n",
    "\n",
    "print (number_of_words)"
   ]
  },
  {
   "cell_type": "markdown",
   "metadata": {},
   "source": [
    "---\n",
    "## 4. Print words in reverse (*)\n",
    "\n",
    "a) Ask the user to input a sentence, then print the words in reverse order. (*) \n",
    "\n",
    "b) Also, make the first letter in the first word uppercase when reversed.\n",
    "\n",
    "<details>\n",
    "\n",
    "<summary>Answer</summary>\n",
    "\n",
    "```\n",
    "a)\n",
    "Example input: This is input from the user\n",
    "Output: user the from input is This\n",
    "```\n",
    "\n",
    "```\n",
    "b)\n",
    "Example input: This is input from the user\n",
    "Output: User the from input is this\n",
    "```\n"
   ]
  },
  {
   "cell_type": "code",
   "execution_count": 4,
   "metadata": {},
   "outputs": [
    {
     "name": "stdout",
     "output_type": "stream",
     "text": [
      "Blablaalbalb\n"
     ]
    }
   ],
   "source": [
    "\n",
    "user_input_sentence = input(\"Input a sentence: \")\n",
    "\n",
    "words = user_input_sentence.split()[::-1]\n",
    "\n",
    "words[0] = words[0].capitalize()\n",
    "\n",
    "reversed_sentence = ' '.join(words)\n",
    "\n",
    "print(reversed_sentence)\n"
   ]
  },
  {
   "cell_type": "markdown",
   "metadata": {},
   "source": [
    "---\n",
    "## 5. Palindrome (*)\n",
    "\n",
    "A palindrome is a sequence of characters that is the same, when read forward as backwards (ignoring spaces). For example:\n",
    "- \"Anna\" is a palindrome\n",
    "- \"Ni talar bra latin\"\n",
    "- \"bjkjb \"\n",
    "\n",
    "Let the user input a sequence of characters and check if it is a palindrome. (*)"
   ]
  },
  {
   "cell_type": "code",
   "execution_count": 5,
   "metadata": {},
   "outputs": [
    {
     "name": "stdout",
     "output_type": "stream",
     "text": [
      "Its a palindrome!\n"
     ]
    }
   ],
   "source": [
    "user_input_palindrome = input(\"Input a word and i will check if it's a palindrome: \")\n",
    "\n",
    "reversed_word = user_input_palindrome[::-1]\n",
    "\n",
    "if reversed_word == user_input_palindrome:\n",
    "    print (\"Its a palindrome!\")\n",
    "else:\n",
    "    print (\"Not a plaindrome.\")\n"
   ]
  },
  {
   "cell_type": "markdown",
   "metadata": {},
   "source": [
    "---\n",
    "## 6. Vowels (**)\n",
    "\n",
    "Count the number of vowels in this sentence: \"Pure mathematics is, in its way, the poetry of logical ideas\"\n",
    "\n",
    "<details>\n",
    "\n",
    "<summary>Answer</summary>\n",
    "\n",
    "```\n",
    "\n",
    "There are 22 vowels in this sentence\n",
    "\n",
    "```\n",
    "</details>"
   ]
  },
  {
   "cell_type": "code",
   "execution_count": 6,
   "metadata": {},
   "outputs": [
    {
     "name": "stdout",
     "output_type": "stream",
     "text": [
      "22\n"
     ]
    }
   ],
   "source": [
    "sentence = \"Pure mathematics is, in its way, the poetry of logical ideas\"\n",
    "vowel_count = 0\n",
    "\n",
    "vowel_list = [\"a\", \"A\", \"e\", \"E\", \"i\", \"I\", \"o\", \"O\", \"u\", \"U\", \"y\", \"Y\"]\n",
    "\n",
    "for char in sentence:\n",
    "    if char in vowel_list:\n",
    "        vowel_count += 1\n",
    "\n",
    "print (vowel_count)"
   ]
  },
  {
   "cell_type": "markdown",
   "metadata": {},
   "source": [
    "---\n",
    "## 7. Rövarspråket (**)\n",
    "\n",
    "Ask the user to input a sentence, and translate it using the formula described in this article:\n",
    "\n",
    "https://en.wikipedia.org/wiki/R%C3%B6varspr%C3%A5ket\n"
   ]
  },
  {
   "cell_type": "code",
   "execution_count": 7,
   "metadata": {},
   "outputs": [
    {
     "name": "stdout",
     "output_type": "stream",
     "text": [
      "momororrorisos e hohunongogrorigog\n"
     ]
    }
   ],
   "source": [
    "sentence_input = input(\"Skriv en mening så konverterar jag det till rövarspråk:  \")\n",
    "consonants_list = ['b', 'c', 'd', 'f', 'g', 'h', 'j', 'k', 'l', 'm', 'n', 'p', 'q', 'r', 's', 't', 'v', 'w', 'x', 'y', 'z', 'B', 'C', 'D', 'F', 'G', 'H', 'J', 'K', 'L', 'M', 'N', 'P', 'Q', 'R', 'S', 'T', 'V', 'W', 'X', 'Y', 'Z']\n",
    "\n",
    "translated_sentence = \"\"\n",
    "\n",
    "for char in sentence_input:\n",
    "    if char in consonants_list and char != \" \":\n",
    "        translated_sentence += char + 'o' + char\n",
    "    else:\n",
    "        translated_sentence += char\n",
    "\n",
    "print(translated_sentence)\n"
   ]
  },
  {
   "cell_type": "markdown",
   "metadata": {},
   "source": [
    "---\n",
    "## 8. Encryption (**)\n",
    "\n",
    "Let the user input a word and: \n",
    "\n",
    "&nbsp; a) &nbsp; encrypt the message by replacing each letter with the next letter. If the letter is in the end of the alphabet, use the first letter instead. \n",
    "\n",
    "e.g. in Swedish: \"höst\" $\\rightarrow$ \"iatu\"\n",
    "\n",
    "&nbsp; b) &nbsp; decrypt the message\n",
    "\n",
    "&nbsp; c) &nbsp; let the user choose either encryption or decryption."
   ]
  },
  {
   "cell_type": "code",
   "execution_count": 8,
   "metadata": {},
   "outputs": [
    {
     "name": "stdout",
     "output_type": "stream",
     "text": [
      "Encrypted message: npssjtösnöuu\n"
     ]
    }
   ],
   "source": [
    "alphabet = \"abcdefghijklmnopqrstuvwxyzåäö\"\n",
    "\n",
    "# Get the message from the user\n",
    "message = input(\"Enter a word to encrypt: \")\n",
    "\n",
    "# Initialize the encrypted message\n",
    "encrypted_message = \"\"\n",
    "\n",
    "# Iterate through each character in the message\n",
    "for char in message:\n",
    "    if char.lower() in alphabet:\n",
    "        # Find the index of the character in the alphabet and shift by 1\n",
    "        index = (alphabet.index(char.lower()) + 1) % len(alphabet)\n",
    "        # If the original character is uppercase, make the encrypted character uppercase\n",
    "        new_char = alphabet[index].upper() if char.isupper() else alphabet[index]\n",
    "        encrypted_message += new_char\n",
    "    else:\n",
    "        # If the character is not alphabetic, add it to the encrypted message as is\n",
    "        encrypted_message += char\n",
    "\n",
    "# Output the encrypted message\n",
    "print(\"Encrypted message:\", encrypted_message)\n"
   ]
  },
  {
   "cell_type": "code",
   "execution_count": 9,
   "metadata": {},
   "outputs": [
    {
     "name": "stdout",
     "output_type": "stream",
     "text": [
      "Decrypted message: morrisärmätt\n"
     ]
    }
   ],
   "source": [
    "# Assume encrypted_message is the message to decrypt\n",
    "decrypted_message = \"\"\n",
    "\n",
    "for char in encrypted_message:\n",
    "    if char.lower() in alphabet:\n",
    "        index = (alphabet.index(char.lower()) - 1) % len(alphabet)\n",
    "        new_char = alphabet[index].upper() if char.isupper() else alphabet[index]\n",
    "        decrypted_message += new_char\n",
    "    else:\n",
    "        decrypted_message += char\n",
    "\n",
    "print(\"Decrypted message:\", decrypted_message)\n"
   ]
  },
  {
   "cell_type": "code",
   "execution_count": 11,
   "metadata": {},
   "outputs": [
    {
     "name": "stdout",
     "output_type": "stream",
     "text": [
      "Decrypted message: morrisärmätt\n"
     ]
    }
   ],
   "source": [
    "def encrypt(message, alphabet):\n",
    "    encrypted_message = \"\"\n",
    "    for char in message:\n",
    "        if char.lower() in alphabet:\n",
    "            index = (alphabet.index(char.lower()) + 1) % len(alphabet)\n",
    "            new_char = alphabet[index].upper() if char.isupper() else alphabet[index]\n",
    "            encrypted_message += new_char\n",
    "        else:\n",
    "            encrypted_message += char\n",
    "    return encrypted_message\n",
    "\n",
    "\n",
    "def decrypt(encrypted_message, alphabet):\n",
    "    decrypted_message = \"\"\n",
    "    for char in encrypted_message:\n",
    "        if char.lower() in alphabet:\n",
    "            index = (alphabet.index(char.lower()) - 1) % len(alphabet)\n",
    "            new_char = alphabet[index].upper() if char.isupper() else alphabet[index]\n",
    "            decrypted_message += new_char\n",
    "        else:\n",
    "            decrypted_message += char\n",
    "    return decrypted_message\n",
    "\n",
    "\n",
    "alphabet = \"abcdefghijklmnopqrstuvwxyzåäö\"\n",
    "choice = input(\"Do you want to encrypt or decrypt a message? (Enter 'encrypt' or 'decrypt'): \")\n",
    "\n",
    "if choice.lower() == 'encrypt':\n",
    "    message = input(\"Enter a word to encrypt: \")\n",
    "    result = encrypt(message, alphabet)\n",
    "    print(\"Encrypted message:\", result)\n",
    "elif choice.lower() == 'decrypt':\n",
    "    encrypted_message = input(\"Enter a word to decrypt: \")\n",
    "    result = decrypt(encrypted_message, alphabet)\n",
    "    print(\"Decrypted message:\", result)\n",
    "else:\n",
    "    print(\"Invalid choice\")"
   ]
  },
  {
   "cell_type": "markdown",
   "metadata": {},
   "source": [
    "---\n",
    "\n",
    "Kokchun Giang\n",
    "\n",
    "[LinkedIn][linkedIn_kokchun]\n",
    "\n",
    "[GitHub portfolio][github_portfolio]\n",
    "\n",
    "[linkedIn_kokchun]: https://www.linkedin.com/in/kokchungiang/\n",
    "[github_portfolio]: https://github.com/kokchun/Portfolio-Kokchun-Giang\n",
    "\n",
    "---"
   ]
  }
 ],
 "metadata": {
  "kernelspec": {
   "display_name": "Python 3.9.6 64-bit",
   "language": "python",
   "name": "python3"
  },
  "language_info": {
   "codemirror_mode": {
    "name": "ipython",
    "version": 3
   },
   "file_extension": ".py",
   "mimetype": "text/x-python",
   "name": "python",
   "nbconvert_exporter": "python",
   "pygments_lexer": "ipython3",
   "version": "3.11.5"
  },
  "orig_nbformat": 4,
  "vscode": {
   "interpreter": {
    "hash": "0da836a34428266995a795f1e1e27b816fa1c02f148d9728b3fbbbc5459afca6"
   }
  }
 },
 "nbformat": 4,
 "nbformat_minor": 2
}
