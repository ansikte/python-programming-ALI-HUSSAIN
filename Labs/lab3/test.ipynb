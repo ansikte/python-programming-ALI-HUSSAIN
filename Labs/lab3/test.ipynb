{
 "cells": [
  {
   "cell_type": "code",
   "execution_count": 1,
   "metadata": {},
   "outputs": [],
   "source": [
    "from classes import Circle, Rectangle\n",
    "\n",
    "circle1 = Circle(x=0, y=0, radius=1)\n",
    "circle2 = Circle(x=1, y=1, radius=1)"
   ]
  },
  {
   "cell_type": "code",
   "execution_count": 2,
   "metadata": {},
   "outputs": [],
   "source": [
    "'''Testing __eq__ method'''\n",
    "assert circle1 == circle2, \"Failed: circle1 should be equal to circle2 based on area.\""
   ]
  },
  {
   "cell_type": "code",
   "execution_count": 3,
   "metadata": {},
   "outputs": [],
   "source": [
    "'''Testing translate method'''\n",
    "circle1.translate(5, 5)\n",
    "assert (circle1.x, circle1.y) == (5, 5), \"Failed: circle1's position should be (5, 5) after translation\""
   ]
  },
  {
   "cell_type": "code",
   "execution_count": 4,
   "metadata": {},
   "outputs": [],
   "source": [
    "'''Testing check_if_inside method'''\n",
    "assert circle1.is_inside(5, 5) == True, \"Failed: Point (5,5) should be inside circle1\""
   ]
  },
  {
   "cell_type": "code",
   "execution_count": 5,
   "metadata": {},
   "outputs": [],
   "source": [
    "'''Testint error handling'''\n",
    "try:\n",
    "    circle1.translate(\"TRE\", 5)\n",
    "except ValueError as e:  \n",
    "    assert str(e) == \"Values for moving the shape must be numeric\", f\"Failed: Unexpected error message {e}\""
   ]
  },
  {
   "cell_type": "code",
   "execution_count": 8,
   "metadata": {},
   "outputs": [
    {
     "name": "stdout",
     "output_type": "stream",
     "text": [
      "True\n",
      "False\n",
      "True\n",
      "False\n"
     ]
    },
    {
     "ename": "ValueError",
     "evalue": "Values for moving the shape must be numeric",
     "output_type": "error",
     "traceback": [
      "\u001b[1;31m---------------------------------------------------------------------------\u001b[0m",
      "\u001b[1;31mValueError\u001b[0m                                Traceback (most recent call last)",
      "\u001b[1;32mc:\\Users\\Gaming2\\Desktop\\Python\\python-programming-ALI-HUSSAIN\\Labs\\lab3\\test.ipynb Cell 6\u001b[0m line \u001b[0;36m1\n\u001b[0;32m      <a href='vscode-notebook-cell:/c%3A/Users/Gaming2/Desktop/Python/python-programming-ALI-HUSSAIN/Labs/lab3/test.ipynb#W5sZmlsZQ%3D%3D?line=8'>9</a>\u001b[0m cirkel1\u001b[39m.\u001b[39mtranslate(\u001b[39m5\u001b[39m,\u001b[39m5\u001b[39m)\n\u001b[0;32m     <a href='vscode-notebook-cell:/c%3A/Users/Gaming2/Desktop/Python/python-programming-ALI-HUSSAIN/Labs/lab3/test.ipynb#W5sZmlsZQ%3D%3D?line=9'>10</a>\u001b[0m \u001b[39mprint\u001b[39m(cirkel1\u001b[39m.\u001b[39mis_inside(\u001b[39m0.5\u001b[39m, \u001b[39m0.5\u001b[39m)) \u001b[39m# False\u001b[39;00m\n\u001b[1;32m---> <a href='vscode-notebook-cell:/c%3A/Users/Gaming2/Desktop/Python/python-programming-ALI-HUSSAIN/Labs/lab3/test.ipynb#W5sZmlsZQ%3D%3D?line=10'>11</a>\u001b[0m cirkel1\u001b[39m.\u001b[39;49mtranslate(\u001b[39m\"\u001b[39;49m\u001b[39mTRE\u001b[39;49m\u001b[39m\"\u001b[39;49m,\u001b[39m5\u001b[39;49m) \u001b[39m# ge ValueError med lämplig kommentar\u001b[39;00m\n",
      "File \u001b[1;32mc:\\Users\\Gaming2\\Desktop\\Python\\python-programming-ALI-HUSSAIN\\Labs\\lab3\\classes.py:31\u001b[0m, in \u001b[0;36mGeometricShape.translate\u001b[1;34m(self, dx, dy)\u001b[0m\n\u001b[0;32m     29\u001b[0m \u001b[39m\u001b[39m\u001b[39m'''Move the shape (x, y) by changing (dx, dy) recpectively.'''\u001b[39;00m\n\u001b[0;32m     30\u001b[0m \u001b[39mif\u001b[39;00m \u001b[39mnot\u001b[39;00m \u001b[39misinstance\u001b[39m(dx, (\u001b[39mint\u001b[39m, \u001b[39mfloat\u001b[39m)) \u001b[39mor\u001b[39;00m \u001b[39mnot\u001b[39;00m \u001b[39misinstance\u001b[39m(dy, (\u001b[39mint\u001b[39m, \u001b[39mfloat\u001b[39m)):\n\u001b[1;32m---> 31\u001b[0m     \u001b[39mraise\u001b[39;00m \u001b[39mValueError\u001b[39;00m(\u001b[39m\"\u001b[39m\u001b[39mValues for moving the shape must be numeric\u001b[39m\u001b[39m\"\u001b[39m)\n\u001b[0;32m     32\u001b[0m \u001b[39mself\u001b[39m\u001b[39m.\u001b[39mx \u001b[39m+\u001b[39m\u001b[39m=\u001b[39m dx\n\u001b[0;32m     33\u001b[0m \u001b[39mself\u001b[39m\u001b[39m.\u001b[39my \u001b[39m+\u001b[39m\u001b[39m=\u001b[39m dy\n",
      "\u001b[1;31mValueError\u001b[0m: Values for moving the shape must be numeric"
     ]
    }
   ],
   "source": [
    "'''Testing with assignment examples'''\n",
    "\n",
    "cirkel1 = Circle(x=0,y=0, radius=1) # enhetscirkel \n",
    "cirkel2 = Circle(x=1,y=1, radius=1)\n",
    "rektangel = Rectangle(x=0,y=0,side1=1, side2=1)\n",
    "print(cirkel1==cirkel2) # True\n",
    "print(cirkel2==rektangel) # False\n",
    "print(cirkel1.is_inside(0.5, 0.5)) # True\n",
    "cirkel1.translate(5,5)\n",
    "print(cirkel1.is_inside(0.5, 0.5)) # False\n",
    "cirkel1.translate(\"TRE\",5) # ge ValueError med lämplig kommentar"
   ]
  },
  {
   "cell_type": "code",
   "execution_count": 7,
   "metadata": {},
   "outputs": [
    {
     "name": "stdout",
     "output_type": "stream",
     "text": [
      "A Circle at the position (0, 0)\n",
      "78.53981633974483\n",
      "True\n",
      "A Rectangle at the position (0, 0)\n",
      "20\n",
      "True\n",
      "False\n"
     ]
    }
   ],
   "source": [
    "# Test Circle:\n",
    "circle = Circle(x=0, y=0, radius=5)\n",
    "print(circle)  # Expected: \"A Circle at the position (0, 0)\"\n",
    "print(circle.area)  # Expected: 78.54 (approximately, depends on the value of pi)\n",
    "print(circle.is_inside(3, 3))  # Expected: True (because the point (3, 3) is inside the circle with radius 5)\n",
    "\n",
    "# Test Rectangle:\n",
    "rectangle = Rectangle(x=0, y=0, side1=4, side2=5)\n",
    "print(rectangle)  # Expected: \"A Rectangle at the position (0, 0)\"\n",
    "print(rectangle.area)  # Expected: 20\n",
    "print(rectangle.is_inside(2, 2))  # Expected: True\n",
    "print(rectangle.is_square())  # Expected: False (because side1 != side2)\n"
   ]
  },
  {
   "cell_type": "code",
   "execution_count": null,
   "metadata": {},
   "outputs": [],
   "source": []
  }
 ],
 "metadata": {
  "kernelspec": {
   "display_name": "Python 3",
   "language": "python",
   "name": "python3"
  },
  "language_info": {
   "codemirror_mode": {
    "name": "ipython",
    "version": 3
   },
   "file_extension": ".py",
   "mimetype": "text/x-python",
   "name": "python",
   "nbconvert_exporter": "python",
   "pygments_lexer": "ipython3",
   "version": "3.12.0"
  }
 },
 "nbformat": 4,
 "nbformat_minor": 2
}
