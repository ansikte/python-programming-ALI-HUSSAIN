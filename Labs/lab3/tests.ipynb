{
 "cells": [
  {
   "cell_type": "code",
   "execution_count": 5,
   "metadata": {},
   "outputs": [
    {
     "name": "stdout",
     "output_type": "stream",
     "text": [
      "All tests passed!\n"
     ]
    }
   ],
   "source": [
    "from classes import Circle, Rectangle\n",
    "import math\n",
    "\n",
    "# Circle initialization\n",
    "circle1 = Circle(x=0, y=0, radius=1)\n",
    "circle2 = Circle(x=1, y=1, radius=1)\n",
    "\n",
    "# Rectangle initialization\n",
    "rectangle1 = Rectangle(x=0, y=0, side1=2, side2=4)\n",
    "rectangle2 = Rectangle(x=1, y=1, side1=3, side2=6)\n",
    "\n",
    "# Test Circle properties\n",
    "assert circle1.x == 0\n",
    "assert circle1.y == 0\n",
    "assert circle1.radius == 1\n",
    "assert circle1.area == math.pi\n",
    "assert circle1.circumference == 2 * math.pi\n",
    "assert circle1.is_inside(0, 0) == True\n",
    "assert circle1.is_inside(1, 1) == False\n",
    "assert circle1.is_unit_circle() == True\n",
    "\n",
    "assert circle2.x == 1\n",
    "assert circle2.y == 1\n",
    "assert circle2.radius == 1\n",
    "\n",
    "# Test Rectangle properties\n",
    "assert rectangle1.x == 0\n",
    "assert rectangle1.y == 0\n",
    "assert rectangle1.side1 == 2\n",
    "assert rectangle1.side2 == 4\n",
    "assert rectangle1.area == 8\n",
    "assert rectangle1.perimeter == 12\n",
    "assert rectangle1.is_inside(0, 0) == True\n",
    "assert rectangle1.is_inside(2, 0) == False\n",
    "assert rectangle1.is_square() == False\n",
    "\n",
    "print(\"All tests passed!\")\n"
   ]
  },
  {
   "cell_type": "code",
   "execution_count": null,
   "metadata": {},
   "outputs": [],
   "source": []
  }
 ],
 "metadata": {
  "kernelspec": {
   "display_name": "Python 3",
   "language": "python",
   "name": "python3"
  },
  "language_info": {
   "codemirror_mode": {
    "name": "ipython",
    "version": 3
   },
   "file_extension": ".py",
   "mimetype": "text/x-python",
   "name": "python",
   "nbconvert_exporter": "python",
   "pygments_lexer": "ipython3",
   "version": "3.12.0"
  }
 },
 "nbformat": 4,
 "nbformat_minor": 2
}
