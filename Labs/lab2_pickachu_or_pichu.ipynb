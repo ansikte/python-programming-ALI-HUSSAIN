{
 "cells": [
  {
   "cell_type": "markdown",
   "metadata": {},
   "source": [
    "## Labb 2 - Pichus eller Pikachus?\n",
    "\n",
    "### Skrivet av: Ali Hussain\n",
    "### Datum:\n",
    "\n",
    "**Grunduppgift**: Följ detta flödesschema för att bygga den grundläggande algoritmen\n",
    "1. Läs in datan och spara i lämplig datastruktur.\n",
    "2. Plotta alla punkterna (varje klass år en färg) samma fönster.\n",
    "3. Läs in testpunkter.\n",
    "4. Besräkna avståndet mellan testpunkter och träningspunkter.\n",
    "5. Tillhör den närmsta punkten Pichu? Om ja: Klassificera testpunktek som Pichu. Om nej: Klassificera testpunkt som Pikachu.\n",
    "\n",
    "**Data: (25,32), (24.2,31.5), (22,34), (20.5,34)** \n",
    "\n",
    "*Facit på givna testdatan:*\n",
    "> \n",
    "Sample with (width, height): (25, 32) classified as Pikachu\n",
    "\n",
    "Sample with (width, height): (24.2, 31.5) classified as Pikachu\n",
    "\n",
    "Sample with (width, height): (22, 34) classified as Pikachu\n",
    "\n",
    "Sample with (width, height): (20.5, 34) classified as Pichu\n"
   ]
  },
  {
   "cell_type": "markdown",
   "metadata": {},
   "source": []
  },
  {
   "cell_type": "code",
   "execution_count": null,
   "metadata": {
    "vscode": {
     "languageId": "plaintext"
    }
   },
   "outputs": [],
   "source": []
  }
 ],
 "metadata": {
  "language_info": {
   "name": "python"
  },
  "orig_nbformat": 4
 },
 "nbformat": 4,
 "nbformat_minor": 2
}
