{
 "cells": [
  {
   "cell_type": "markdown",
   "metadata": {},
   "source": [
    "## Labb 2 - Pichus eller Pikachus?\n",
    "\n",
    "### Skrivet av: Ali Hussain\n",
    "### Datum:\n",
    "\n",
    "**Grunduppgift**: Följ detta flödesschema för att bygga den grundläggande algoritmen\n",
    "1. Läs in datan och spara i lämplig datastruktur.\n",
    "2. Plotta alla punkterna (varje klass år en färg) samma fönster.\n",
    "3. Läs in testpunkter.\n",
    "4. Besräkna avståndet mellan testpunkter och träningspunkter.\n",
    "5. Tillhör den närmsta punkten Pichu? Om ja: Klassificera testpunktek som Pichu. Om nej: Klassificera testpunkt som Pikachu.\n",
    "\n",
    "**Data: (25,32), (24.2,31.5), (22,34), (20.5,34)** \n",
    "\n",
    "*Facit på givna testdatan:*\n",
    "> \n",
    "Sample with (width, height): (25, 32) classified as Pikachu\n",
    "\n",
    "Sample with (width, height): (24.2, 31.5) classified as Pikachu\n",
    "\n",
    "Sample with (width, height): (22, 34) classified as Pikachu\n",
    "\n",
    "Sample with (width, height): (20.5, 34) classified as Pichu"
   ]
  },
  {
   "cell_type": "code",
   "execution_count": 3,
   "metadata": {},
   "outputs": [],
   "source": [
    "# Definerar funktion och döper den till \"collect_data\"\n",
    "def collect_data():\n",
    "\n",
    "    # Döper variabel till \"testdata_list\" och skapar en tom lista som senare i koden konverteras till en List (i testdata_list.append)\n",
    "    testdata_list = []\n",
    "    \n",
    "    # Döper variabel till \"testdata_input\" och tar in testdata som en String med input-funktionen.\n",
    "    # Talar om för användaren att skriva in data i ett specificerat format.\n",
    "    testdata_input = input(\"Skriv in data i formatet (25,32), (24.2,31.5), (22,34), (20.5,34) etc.: \")\n",
    "    \n",
    "    # Delar upp inmatad data vid varje \"),\"\n",
    "    clean_testdata = testdata_input.split(\"),\")\n",
    "    \n",
    "    # Loopar igenom datan och städar upp\n",
    "    for dirt in clean_testdata:\n",
    "        # Tar bort parentesr och mellanslag med strip funktionen\n",
    "        # Delar vid kommatecken med split funktionen\n",
    "        # Konverterar data till flyttal med map funktionen \n",
    "        width, height = map(float, dirt.strip(\"() \").split(\",\"))\n",
    "        \n",
    "        # Lägger till en lista med de insamlade värdena i listan\n",
    "        testdata_list.append([width, height])\n",
    "\n",
    "# Anropar funktionen\n",
    "collect_data()\n"
   ]
  },
  {
   "cell_type": "code",
   "execution_count": null,
   "metadata": {},
   "outputs": [],
   "source": []
  }
 ],
 "metadata": {
  "kernelspec": {
   "display_name": "Python 3",
   "language": "python",
   "name": "python3"
  },
  "language_info": {
   "codemirror_mode": {
    "name": "ipython",
    "version": 3
   },
   "file_extension": ".py",
   "mimetype": "text/x-python",
   "name": "python",
   "nbconvert_exporter": "python",
   "pygments_lexer": "ipython3",
   "version": "3.11.5"
  },
  "orig_nbformat": 4
 },
 "nbformat": 4,
 "nbformat_minor": 2
}
