{
 "cells": [
  {
   "cell_type": "markdown",
   "metadata": {},
   "source": [
    "\n",
    "## Rapport: Arbetsflöde och metodik för förutsägelse av huspriser med linjär regression\n",
    "\n",
    "### Författare: Ali Hussain\n",
    "\n",
    "### Datum: 2023-09-03\n"
   ]
  },
  {
   "cell_type": "markdown",
   "metadata": {},
   "source": [
    "\n",
    "**1. Inledning:** [^1]\n",
    "\n",
    "Att förutsäga bostadspriser är en svår uppgift som kräver många olika variabler. \n",
    "Men lösningen har stora fördelar för både konsumenter, fastighetsinvesterare, stadsplanerare med mera.\n",
    "\n",
    "Här är några exempel på vilka variabler (både globala och lokala) man skulle kunna använda sig av:\n",
    "\n",
    "1. Penningmängd (M0, M1, M2 och M3).\n",
    "2. Konsumentprisindex och arbetskostnadsindex (KPI och AKI).\n",
    "3. Börsindex (SMP500 och OMX 30)\n",
    "4. Adress, koordinater, kommun\n",
    "5. Begärt pris, slutpris, differens mellan begärt och slutpris\n",
    "6. Boarea, biarea, markyta\n",
    "7. Snittpris per kvm i riket, i kommun, i koordinater baserat på omgivning\n",
    "\n",
    "Med maskininlärning är det nu möjligt att skapa modeller som kan göra dessa förutsägelser med hög nogranhet. \n",
    "\n",
    "I den här rapporten beskrivs det teoretiska arbetsflödet för att utveckla en sådan maskininlärningsapplikation med Python."
   ]
  },
  {
   "cell_type": "markdown",
   "metadata": {},
   "source": [
    "**2. Innehållsförtäckning**\n",
    "1. Inledning [^1]\n",
    "2. Innehållsförtäckning\n",
    "3. Arbetsflöde \n",
    "4. Samla in data \n",
    "5. Visualisera data\n",
    "6. Data förberedelse\n",
    "7. Linjär regression\n",
    "8. Driftsättning\n",
    "9. Sammanfattning\n",
    "10. Källor"
   ]
  },
  {
   "cell_type": "markdown",
   "metadata": {},
   "source": [
    "**3. Arbetsflöde med exempel:** \n",
    "\n",
    "| 1. Samla in data | 2. Visualisering av data | 3. Förberedelse av data  | 4. Algoritmer | 5. Driftsättning | \n",
    "| :--- | :---- | :--- | :--- | :---- | \n",
    "| Datakällor och format     | Diagram       | Datarensning  | Linjär regression      | Serverlös arkitektur        | \n"
   ]
  },
  {
   "cell_type": "markdown",
   "metadata": {},
   "source": [
    "**4. Samla in data**\n",
    "\n",
    " Datainsamlingskällor kan vara: fastighetsmäklarsidor, databaser och regeringsstatistik med flera.\n",
    " Viktigt att tänka på är de etiska aspekter och vikten av anonymisering och GDPR-förpliktelser, särskilt om personlig information samlas in.\n",
    "\n",
    " Man kan använda Pandas, Scrapy för data insamling. \n",
    " För data analys kan man använda Scikit-learn, Statsmodels\n",
    " \n",
    " Formaten datan samlas i kan vara: CSV, Excel och SQL databaser.\n",
    " \n",
    "> Lagring:\n",
    "\n",
    " Data kan lagras på ens egna lokala server, en utomstående server eller flera servrar spridda över hela världen (molnet).\n",
    "\n",
    "Exempel:\n",
    " \n",
    " - [AWS S3](aws.amazon.com/s3/aws)\n",
    "  \n",
    " - [Google Cloud Storage](cloud.google.com)\n"
   ]
  },
  {
   "cell_type": "markdown",
   "metadata": {},
   "source": [
    "**5. Visualisera data** \n",
    "\n",
    " För att förstå data bättre kan vi använda visualiseringsverktyg som Matplotlib eller Seaborn i Python.\n",
    "\n",
    " - [Seaborn](https://seaborn.pydata.org/)\n",
    "\n",
    " - [Matplotlib](https://matplotlib.org/)\n",
    "\n",
    " Diagram är användbara för att identifiera extremvärden samt kunna utforska samband mellan variabler.\n",
    "\n",
    "  Diagram typer:\n",
    "  - Scatterplot\n",
    "  - Histogram\n",
    "  - Boxplot\n"
   ]
  },
  {
   "cell_type": "markdown",
   "metadata": {},
   "source": [
    "**6. Data förberedelser** \n",
    "> Datarensning\n",
    "\n",
    "Först behöver vi hantera saknade värden och outliers. \n",
    "\n",
    "Detta kan göras genom att antingen ta bort dessa poster eller fylla i saknade värden med medianen eller medelvärdet.\n",
    "\n",
    "> Feature Engineering\n",
    "\n",
    "Här kan vi också skapa nya variabler som kan vara mer informativa.\n",
    "\n",
    ">Normalisering\n",
    "\n",
    "För att förbättra prestanda för vår linjär regressionsmodell, kan det vara användbart att normalisera funktionerna."
   ]
  },
  {
   "cell_type": "markdown",
   "metadata": {},
   "source": [
    "**7. Linjär regression** \n",
    "\n",
    "*Linjär regression:* \n",
    "[$\n",
    "y = \\beta_0 + \\beta_1 x + \\epsilon\n",
    "$](https://wikimedia.org/api/rest_v1/media/math/render/svg/5e69ea724c9c7f3d196d6d1dd09f49fee8d34c06) \n",
    "\n",
    "Här är:\n",
    "- $y$ den beroende variabeln vi försöker förutsäga.\n",
    "- $x$ den oberoende variabeln vi använder för att förutsäga $y$\n",
    "- $\\beta_0$ skärningspunkten med y-axeln (även kallad \"intercept\")\n",
    "- $\\beta_1$ lutningen av linjen (även kallad \"koefficient\")\n",
    "- ϵ ett slumpmässigt felterm.\n",
    "\n",
    "Linjär regression är en maskininlärningsalgoritm som kan användas för att analysera relationerna mellan en beroende och en eller flera oberoende variabler.\n",
    "\n",
    "Den tar fram den funktionen som bäst aproximerar datapunkter.\n",
    "\n",
    " Modellen försöker passa en linje genom data som minimerar det totala felet.\n",
    "\n",
    " \n",
    "\n",
    " > *Multipel regression* [$\n",
    "y = \\beta_0 + \\beta_1 x_1 + \\beta_2 x_2 + \\ldots + \\beta_p x_p + \\epsilon\n",
    "$](https://wikimedia.org/api/rest_v1/media/math/render/svg/011dec7a05b66418ee8ee1d109413ee18c5e0575)\n",
    "\n",
    "Här är:\n",
    "- $y$ den beroende variabeln vi försöker förutsäga.\n",
    "- $x_1, x_2,...,x_p$ den oberoende variabeln vi använder för att förutsäga $y$.\n",
    "- $\\beta_0$ skärningspunkten med y-axeln (även kallad \"intercept\").\n",
    "- $\\beta_1, \\beta_2,...,\\beta_p$ är koefficienterna för de oberoende variablerna.\n",
    "- ϵ ett slumpmässigt felterm.\n",
    "\n",
    "Multipel regression kan också användas för detta ändamål och är bra ifall man har flera variabler.\n",
    " \n",
    " Det kan ge en mer nogrann modell samt låter dig kontrollera för bortkommna variabler, vilket kan ge ett en mer exakt uppskattning av samband mellan beroende och oberoende variabel.\n",
    "Målet med båda metoderna är att hitta de koefficienter $\\beta$ som minimerar summan av de kvadrerade residuerna (skillnaden mellan den observerade och den förutsagda värdet för \n",
    "$y$).\n",
    "\n",
    "Nackdelar är dock högt datakrav, komplexitet och att det kan vara svårt att tolka effekten av en variabel."
   ]
  },
  {
   "cell_type": "markdown",
   "metadata": {},
   "source": [
    "**8. Driftsättning** \n",
    "\n",
    "För att driftsätta modellen kan vi använda en serverlös arkitektur som [AWS Lambda](https://aws.amazon.com/lambda//) eller en containerlösning som [Docker](https://www.docker.com/)\n",
    "\n",
    "Därifrån kan andra tjänster och användare interagera med modellen via API:er."
   ]
  },
  {
   "cell_type": "markdown",
   "metadata": {},
   "source": [
    "**9. Sammanfattning**\n",
    "\n",
    " Maskininlärning är ett väldigt användsbart och effektivt sätt att lösa det här problemet med.\n",
    "\n",
    " Ett väl bearbetat och genomtänkt arbetsflöde kan resultera i ett framgångsrikt projekt.\n",
    "\n",
    " Med rätt teknologi och metod så går det att bygga väldigt tåliga och skalbara lösningar."
   ]
  },
  {
   "cell_type": "markdown",
   "metadata": {},
   "source": [
    "**10. Källor**"
   ]
  },
  {
   "cell_type": "markdown",
   "metadata": {},
   "source": [
    "\n",
    "\n",
    "\n",
    "\n",
    "\n",
    "\n",
    "1. https://www.learndatasci.com/tutorials/predicting-housing-prices-linear-regression-using-python-pandas-statsmodels/\n",
    "2. https://yalantis.com/blog/predictive-algorithm-for-house-price/#:~:text=def%20get_outliners%28dataset%2C%20outliers_fraction%3D0.25%29%3A%20clf%20%3D%20svm.OneClassSVM%20%28nu%3D%200.95,clf.fit%20%28dataset%29%20result%20%3D%20clf.predict%20%28dataset%29%20return%20result\n",
    "3. https://www.kaggle.com/code/erick5/predicting-house-prices-with-machine-learning\n",
    "4. https://youtu.be/hONQwEZv-H4?si=FIY5MsCUbxjRG-HW\n",
    "5. https://youtu.be/xoEGX1uoCnM?si=tSMx-ExK_rga7iIb\n",
    "6. https://machinelearningmastery.com/linear-regression-for-machine-learning/\n",
    "7. https://en.wikipedia.org/wiki/Linear_regression\n",
    "8. https://en.wikipedia.org/wiki/Regression_analysis"
   ]
  },
  {
   "cell_type": "markdown",
   "metadata": {},
   "source": [
    "\n"
   ]
  },
  {
   "cell_type": "markdown",
   "metadata": {},
   "source": []
  }
 ],
 "metadata": {
  "language_info": {
   "name": "python"
  },
  "orig_nbformat": 4
 },
 "nbformat": 4,
 "nbformat_minor": 2
}
