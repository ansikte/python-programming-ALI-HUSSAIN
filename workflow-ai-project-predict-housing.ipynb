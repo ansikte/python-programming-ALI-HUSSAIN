{
 "cells": [
  {
   "cell_type": "markdown",
   "metadata": {},
   "source": [
    "\n",
    "## Rapport: Arbetsflöde och metodik för förutsägelse av huspriser med linjär regression\n",
    "\n",
    "### Författare: Ali Hussain\n",
    "\n",
    "### Datum: 2023-09-03\n"
   ]
  },
  {
   "cell_type": "markdown",
   "metadata": {},
   "source": [
    "[<sup>1</sup>](#footnote1) **Inledning:** \n",
    "\n",
    "Att förutsäga bostadspriser är en svår uppgift som kräver många olika variabler. \n",
    "\n",
    "Här är några exempel på vilka variabler man skulle kunna använda sig av:\n",
    "\n",
    "1. Penningmängd (M0, M1, M2 och M3), både globala och lokala.\n",
    "2. Konsumentprisindex och arbetskostnadsindex (KPI och AKI) både globala och lokala.\n",
    "3. Börsindex (SMP500 och OMX 30) med flera.\n",
    "4. Adress, koordinater, kommun \n",
    "5. Begärt pris, slutpris, differens mellan begärt och slutpris\n",
    "6. Boarea, biarea, markyta\n",
    "7. Pris per kvm\n",
    "\n",
    "Med maskininlärning är det nu möjligt att skapa modeller som kan göra dessa förutsägelser med hög nogranhet. \n",
    "\n",
    "I den här rapporten beskrivs det teoretiska arbetsflödet för att utveckla en sådan maskininlärningsapplikation med Python."
   ]
  },
  {
   "cell_type": "markdown",
   "metadata": {},
   "source": [
    " [<sup>2</sup>](#footnote2) **Innehållsförtäckning**\n",
    "1. Inledning [<sup>1</sup>](#footnote1)\n",
    "2. Innehållsförtäckning [<sup>2</sup>](#footnote2)\n",
    "3. Arbetsflöde [<sup>3</sup>](#footnote3)\n",
    "4. Samla in data [<sup>4</sup>](#footnote4)\n",
    "5. Visualisera data [<sup>5</sup>](#footnote5)\n",
    "6. Data förberedelse [<sup>6</sup>](#footnote6)\n",
    "7. Linjär regression [<sup>7</sup>](#footnote7)\n",
    "8. Driftsättning [<sup>8</sup>](#footnote8)\n",
    "9. Sammanfattning [<sup>9</sup>](#footnote9)\n",
    "10. Sammanfattning [<sup>10</sup>](#footnote10)"
   ]
  },
  {
   "cell_type": "markdown",
   "metadata": {},
   "source": [
    "[<sup>3</sup>](#footnote3) **Arbetsflöde med exempel:** \n",
    "\n",
    "| 1. Samla in data | 2. Visualisering av data | 3. Förberedelse av data  | 4. Algoritmer | 5. Driftsättning | \n",
    "| :--- | :---- | :--- | :--- | :---- | \n",
    "| Datakällor och format     | Diagram       | Datarensning  | Linjär regression      | Serverlös arkitektur        | \n"
   ]
  },
  {
   "cell_type": "markdown",
   "metadata": {},
   "source": [
    "[<sup>4</sup>](#footnote4) **Samla in data**\n",
    "\n",
    " Datainsamlingskällor kan vara: fastighetsmäklarsidor, databaser och regeringsstatistik.\n",
    "\n",
    " Man kan använda Pandas, Scrapy för data insamling. \n",
    " För data analys kan man använda Scikit-learn, Statsmodels\n",
    " \n",
    " Formaten datan samlas i kan vara: CSV, Excel och SQL databaser.\n",
    " \n",
    "> Lagring:\n",
    "\n",
    " Data kan lagras på ens egna lokala server, en utomstående server eller flera servrar spridda över hela världen (molnet).\n",
    "\n",
    "Exempel:\n",
    " \n",
    " - [AWS S3](aws.amazon.com/s3/aws)\n",
    "  \n",
    " - [Google Cloud Storage](cloud.google.com)\n"
   ]
  },
  {
   "cell_type": "markdown",
   "metadata": {},
   "source": [
    "[<sup>5</sup>](#footnote5) **Visualisera data** \n",
    "\n",
    " För att förstå data bättre kan vi använda visualiseringsverktyg som Matplotlib eller Seaborn i Python.\n",
    "\n",
    " - [Seaborn](https://seaborn.pydata.org/)\n",
    "\n",
    " - [Matplotlib](https://matplotlib.org/)\n",
    "\n",
    " Diagram är användbara för att identifiera extremvärden samt kunna utforska samband mellan variabler.\n",
    "\n",
    "  Diagram typer:\n",
    "  - Scatterplot\n",
    "  - Histogram\n",
    "  - Boxplot\n"
   ]
  },
  {
   "cell_type": "markdown",
   "metadata": {},
   "source": [
    "[<sup>6</sup>](#footnote6) **Data förberedelser** \n",
    "> Datarensning\n",
    "\n",
    "Först behöver vi hantera saknade värden och outliers. \n",
    "\n",
    "Detta kan göras genom att antingen ta bort dessa poster eller fylla i saknade värden med medianen eller medelvärdet.\n",
    "\n",
    "> Feature Engineering\n",
    "\n",
    "Här kan vi också skapa nya variabler som kan vara mer informativa.\n",
    "\n",
    ">Normalisering\n",
    "\n",
    "För att förbättra prestanda för vår linjär regressionsmodell, kan det vara användbart att normalisera funktionerna."
   ]
  },
  {
   "cell_type": "markdown",
   "metadata": {},
   "source": [
    "[<sup>7</sup>](#footnote7) **Linjär regression** \n",
    "\n",
    "*Linjär regression* [Formel](https://wikimedia.org/api/rest_v1/media/math/render/svg/5e69ea724c9c7f3d196d6d1dd09f49fee8d34c06) är en maskininlärningsalgoritm som kan användas för att analysera relationerna mellan en beroende och en eller flera oberoende variabler.\n",
    "\n",
    "\n",
    "Den tar fram den funktionen som bäst aproximerar datapunkter.\n",
    "\n",
    " Modellen försöker passa en linje genom data som minimerar det totala felet.\n",
    "\n",
    " > *Multipel regression* [Formel](https://wikimedia.org/api/rest_v1/media/math/render/svg/011dec7a05b66418ee8ee1d109413ee18c5e0575) kan också användas i detta ändamål och är bra ifall man har flera variabler.\n",
    " \n",
    " Det kan ge en mer nogrann modell samt låter dig kontrollera för bortkommna variabler, \n",
    " vilket kan ge ett en mer exakt uppskattning av samband mellan beroende och oberoende variabel.\n",
    " \n",
    "Nackdelar är dock högt datakrav, komplexitet och att det kan vara svårt att tolka effekten av en variabel."
   ]
  },
  {
   "cell_type": "markdown",
   "metadata": {},
   "source": [
    "[<sup>8</sup>](#footnote8) **Driftsättning** \n",
    "\n",
    "För att driftsätta modellen kan vi använda en serverlös arkitektur som [AWS Lambda](https://aws.amazon.com/lambda//) eller en containerlösning som [Docker](https://www.docker.com/)\n",
    "\n",
    "Därifrån kan andra tjänster och användare interagera med modellen via API:er."
   ]
  },
  {
   "cell_type": "markdown",
   "metadata": {},
   "source": [
    "[<sup>9</sup>](#footnote9) **Sammanfattning**\n",
    "\n",
    " Maskininlärning är ett väldigt användsbart och effektivt sätt att lösa det här problemet med.\n",
    "\n",
    " Ett väl bearbetat och genomtänkt arbetsflöde kan resultera i ett framgångsrikt projekt.\n",
    "\n",
    " Med rätt teknologi och metod så går det att bygga väldigt tåliga och skalbara lösningar."
   ]
  },
  {
   "cell_type": "markdown",
   "metadata": {},
   "source": [
    "[<sup>10</sup>](#footnote10) **Källor**"
   ]
  },
  {
   "cell_type": "markdown",
   "metadata": {},
   "source": [
    "1.\n",
    "2.\n",
    "3.\n",
    "4.\n",
    "5.\n",
    "6.\n",
    "7.\n",
    "8.\n",
    "9.\n",
    "10."
   ]
  },
  {
   "cell_type": "markdown",
   "metadata": {},
   "source": [
    "\n"
   ]
  }
 ],
 "metadata": {
  "language_info": {
   "name": "python"
  },
  "orig_nbformat": 4
 },
 "nbformat": 4,
 "nbformat_minor": 2
}
